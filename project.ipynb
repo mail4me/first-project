{
 "cells": [
  {
   "cell_type": "markdown",
   "metadata": {
    "toc": true
   },
   "source": [
    "<h1>Содержание<span class=\"tocSkip\"></span></h1>\n",
    "<div class=\"toc\"><ul class=\"toc-item\"><li><span><a href=\"#Подготовка-данных\" data-toc-modified-id=\"Подготовка-данных-1\"><span class=\"toc-item-num\">1&nbsp;&nbsp;</span>Подготовка данных</a></span></li><li><span><a href=\"#Исследование-задачи\" data-toc-modified-id=\"Исследование-задачи-2\"><span class=\"toc-item-num\">2&nbsp;&nbsp;</span>Исследование задачи</a></span></li><li><span><a href=\"#Борьба-с-дисбалансом\" data-toc-modified-id=\"Борьба-с-дисбалансом-3\"><span class=\"toc-item-num\">3&nbsp;&nbsp;</span>Борьба с дисбалансом</a></span></li><li><span><a href=\"#Тестирование-модели\" data-toc-modified-id=\"Тестирование-модели-4\"><span class=\"toc-item-num\">4&nbsp;&nbsp;</span>Тестирование модели</a></span></li><li><span><a href=\"#Чек-лист-готовности-проекта\" data-toc-modified-id=\"Чек-лист-готовности-проекта-5\"><span class=\"toc-item-num\">5&nbsp;&nbsp;</span>Чек-лист готовности проекта</a></span></li></ul></div>"
   ]
  },
  {
   "cell_type": "markdown",
   "metadata": {},
   "source": [
    "# Отток клиентов"
   ]
  },
  {
   "cell_type": "markdown",
   "metadata": {},
   "source": [
    "Из «Бета-Банка» стали уходить клиенты. Каждый месяц. Немного, но заметно. Банковские маркетологи посчитали: сохранять текущих клиентов дешевле, чем привлекать новых.\n",
    "\n",
    "Нужно спрогнозировать, уйдёт клиент из банка в ближайшее время или нет. Вам предоставлены исторические данные о поведении клиентов и расторжении договоров с банком. \n",
    "\n",
    "Постройте модель с предельно большим значением *F1*-меры. Чтобы сдать проект успешно, нужно довести метрику до 0.59. Проверьте *F1*-меру на тестовой выборке самостоятельно.\n",
    "\n",
    "Дополнительно измеряйте *AUC-ROC*, сравнивайте её значение с *F1*-мерой.\n",
    "\n",
    "Источник данных: [https://www.kaggle.com/barelydedicated/bank-customer-churn-modeling](https://www.kaggle.com/barelydedicated/bank-customer-churn-modeling)"
   ]
  },
  {
   "cell_type": "markdown",
   "metadata": {},
   "source": [
    "Признаки\n",
    "RowNumber — индекс строки в данных\n",
    "CustomerId — уникальный идентификатор клиента\n",
    "Surname — фамилия\n",
    "CreditScore — кредитный рейтинг\n",
    "Geography — страна проживания\n",
    "Gender — пол\n",
    "Age — возраст\n",
    "Tenure — сколько лет человек является клиентом банка\n",
    "Balance — баланс на счёте\n",
    "NumOfProducts — количество продуктов банка, используемых клиентом\n",
    "HasCrCard — наличие кредитной карты\n",
    "IsActiveMember — активность клиента\n",
    "EstimatedSalary — предполагаемая зарплата\n",
    "Целевой признак\n",
    "Exited — факт ухода клиента"
   ]
  },
  {
   "cell_type": "markdown",
   "metadata": {},
   "source": [
    "## Подготовка данных"
   ]
  },
  {
   "cell_type": "code",
   "execution_count": 31,
   "metadata": {},
   "outputs": [],
   "source": [
    "#подключим библиотеки\n",
    "import pandas as pd\n",
    "import numpy as np\n",
    "import matplotlib.pyplot as plt\n",
    "import seaborn as sns\n",
    "pd.options.mode.chained_assignment = None\n",
    "\n",
    "from sklearn.preprocessing import StandardScaler \n",
    "from sklearn.model_selection import train_test_split\n",
    "from sklearn.tree import DecisionTreeClassifier, DecisionTreeRegressor\n",
    "from sklearn.ensemble import RandomForestClassifier\n",
    "from sklearn.linear_model import LogisticRegression\n",
    "from sklearn.metrics import f1_score, roc_auc_score, r2_score\n",
    "from sklearn.utils import shuffle\n",
    "from matplotlib import pyplot\n",
    "from sklearn.metrics import confusion_matrix\n",
    "from sklearn.metrics import accuracy_score\n",
    "from sklearn.metrics import recall_score\n",
    "from sklearn.metrics import precision_score\n",
    "from sklearn.utils import shuffle\n",
    "from sklearn.metrics import roc_auc_score"
   ]
  },
  {
   "cell_type": "code",
   "execution_count": 32,
   "metadata": {
    "scrolled": true
   },
   "outputs": [
    {
     "data": {
      "text/html": [
       "<div>\n",
       "<style scoped>\n",
       "    .dataframe tbody tr th:only-of-type {\n",
       "        vertical-align: middle;\n",
       "    }\n",
       "\n",
       "    .dataframe tbody tr th {\n",
       "        vertical-align: top;\n",
       "    }\n",
       "\n",
       "    .dataframe thead th {\n",
       "        text-align: right;\n",
       "    }\n",
       "</style>\n",
       "<table border=\"1\" class=\"dataframe\">\n",
       "  <thead>\n",
       "    <tr style=\"text-align: right;\">\n",
       "      <th></th>\n",
       "      <th>RowNumber</th>\n",
       "      <th>CustomerId</th>\n",
       "      <th>Surname</th>\n",
       "      <th>CreditScore</th>\n",
       "      <th>Geography</th>\n",
       "      <th>Gender</th>\n",
       "      <th>Age</th>\n",
       "      <th>Tenure</th>\n",
       "      <th>Balance</th>\n",
       "      <th>NumOfProducts</th>\n",
       "      <th>HasCrCard</th>\n",
       "      <th>IsActiveMember</th>\n",
       "      <th>EstimatedSalary</th>\n",
       "      <th>Exited</th>\n",
       "    </tr>\n",
       "  </thead>\n",
       "  <tbody>\n",
       "    <tr>\n",
       "      <th>2852</th>\n",
       "      <td>2853</td>\n",
       "      <td>15771483</td>\n",
       "      <td>Arnold</td>\n",
       "      <td>609</td>\n",
       "      <td>France</td>\n",
       "      <td>Male</td>\n",
       "      <td>40</td>\n",
       "      <td>6.0</td>\n",
       "      <td>0.00</td>\n",
       "      <td>2</td>\n",
       "      <td>1</td>\n",
       "      <td>1</td>\n",
       "      <td>97416.34</td>\n",
       "      <td>0</td>\n",
       "    </tr>\n",
       "    <tr>\n",
       "      <th>9486</th>\n",
       "      <td>9487</td>\n",
       "      <td>15605130</td>\n",
       "      <td>Seccombe</td>\n",
       "      <td>753</td>\n",
       "      <td>France</td>\n",
       "      <td>Male</td>\n",
       "      <td>32</td>\n",
       "      <td>6.0</td>\n",
       "      <td>177729.13</td>\n",
       "      <td>1</td>\n",
       "      <td>1</td>\n",
       "      <td>1</td>\n",
       "      <td>161642.08</td>\n",
       "      <td>0</td>\n",
       "    </tr>\n",
       "    <tr>\n",
       "      <th>1588</th>\n",
       "      <td>1589</td>\n",
       "      <td>15758035</td>\n",
       "      <td>Bateson</td>\n",
       "      <td>747</td>\n",
       "      <td>France</td>\n",
       "      <td>Male</td>\n",
       "      <td>61</td>\n",
       "      <td>7.0</td>\n",
       "      <td>155973.13</td>\n",
       "      <td>1</td>\n",
       "      <td>0</td>\n",
       "      <td>1</td>\n",
       "      <td>147554.26</td>\n",
       "      <td>0</td>\n",
       "    </tr>\n",
       "    <tr>\n",
       "      <th>905</th>\n",
       "      <td>906</td>\n",
       "      <td>15675964</td>\n",
       "      <td>Chukwukadibia</td>\n",
       "      <td>672</td>\n",
       "      <td>France</td>\n",
       "      <td>Female</td>\n",
       "      <td>45</td>\n",
       "      <td>9.0</td>\n",
       "      <td>0.00</td>\n",
       "      <td>1</td>\n",
       "      <td>1</td>\n",
       "      <td>1</td>\n",
       "      <td>92027.69</td>\n",
       "      <td>1</td>\n",
       "    </tr>\n",
       "    <tr>\n",
       "      <th>9957</th>\n",
       "      <td>9958</td>\n",
       "      <td>15672237</td>\n",
       "      <td>Oluchi</td>\n",
       "      <td>633</td>\n",
       "      <td>France</td>\n",
       "      <td>Male</td>\n",
       "      <td>25</td>\n",
       "      <td>1.0</td>\n",
       "      <td>0.00</td>\n",
       "      <td>1</td>\n",
       "      <td>1</td>\n",
       "      <td>0</td>\n",
       "      <td>100598.98</td>\n",
       "      <td>0</td>\n",
       "    </tr>\n",
       "    <tr>\n",
       "      <th>3166</th>\n",
       "      <td>3167</td>\n",
       "      <td>15746203</td>\n",
       "      <td>Hsia</td>\n",
       "      <td>555</td>\n",
       "      <td>Germany</td>\n",
       "      <td>Male</td>\n",
       "      <td>62</td>\n",
       "      <td>4.0</td>\n",
       "      <td>119817.33</td>\n",
       "      <td>1</td>\n",
       "      <td>0</td>\n",
       "      <td>1</td>\n",
       "      <td>43507.10</td>\n",
       "      <td>1</td>\n",
       "    </tr>\n",
       "    <tr>\n",
       "      <th>7917</th>\n",
       "      <td>7918</td>\n",
       "      <td>15590094</td>\n",
       "      <td>Nwachukwu</td>\n",
       "      <td>613</td>\n",
       "      <td>Germany</td>\n",
       "      <td>Male</td>\n",
       "      <td>38</td>\n",
       "      <td>9.0</td>\n",
       "      <td>126265.88</td>\n",
       "      <td>2</td>\n",
       "      <td>0</td>\n",
       "      <td>0</td>\n",
       "      <td>15859.95</td>\n",
       "      <td>0</td>\n",
       "    </tr>\n",
       "    <tr>\n",
       "      <th>3252</th>\n",
       "      <td>3253</td>\n",
       "      <td>15699619</td>\n",
       "      <td>Rivas</td>\n",
       "      <td>641</td>\n",
       "      <td>France</td>\n",
       "      <td>Male</td>\n",
       "      <td>31</td>\n",
       "      <td>10.0</td>\n",
       "      <td>155978.17</td>\n",
       "      <td>1</td>\n",
       "      <td>1</td>\n",
       "      <td>0</td>\n",
       "      <td>91510.71</td>\n",
       "      <td>0</td>\n",
       "    </tr>\n",
       "    <tr>\n",
       "      <th>7043</th>\n",
       "      <td>7044</td>\n",
       "      <td>15704581</td>\n",
       "      <td>Robertson</td>\n",
       "      <td>595</td>\n",
       "      <td>Germany</td>\n",
       "      <td>Male</td>\n",
       "      <td>34</td>\n",
       "      <td>2.0</td>\n",
       "      <td>87967.42</td>\n",
       "      <td>2</td>\n",
       "      <td>0</td>\n",
       "      <td>1</td>\n",
       "      <td>156309.52</td>\n",
       "      <td>0</td>\n",
       "    </tr>\n",
       "    <tr>\n",
       "      <th>9381</th>\n",
       "      <td>9382</td>\n",
       "      <td>15756148</td>\n",
       "      <td>Nnanna</td>\n",
       "      <td>765</td>\n",
       "      <td>Spain</td>\n",
       "      <td>Male</td>\n",
       "      <td>45</td>\n",
       "      <td>2.0</td>\n",
       "      <td>91549.78</td>\n",
       "      <td>1</td>\n",
       "      <td>1</td>\n",
       "      <td>1</td>\n",
       "      <td>47139.44</td>\n",
       "      <td>0</td>\n",
       "    </tr>\n",
       "  </tbody>\n",
       "</table>\n",
       "</div>"
      ],
      "text/plain": [
       "      RowNumber  CustomerId        Surname  CreditScore Geography  Gender  \\\n",
       "2852       2853    15771483         Arnold          609    France    Male   \n",
       "9486       9487    15605130       Seccombe          753    France    Male   \n",
       "1588       1589    15758035        Bateson          747    France    Male   \n",
       "905         906    15675964  Chukwukadibia          672    France  Female   \n",
       "9957       9958    15672237         Oluchi          633    France    Male   \n",
       "3166       3167    15746203           Hsia          555   Germany    Male   \n",
       "7917       7918    15590094      Nwachukwu          613   Germany    Male   \n",
       "3252       3253    15699619          Rivas          641    France    Male   \n",
       "7043       7044    15704581      Robertson          595   Germany    Male   \n",
       "9381       9382    15756148         Nnanna          765     Spain    Male   \n",
       "\n",
       "      Age  Tenure    Balance  NumOfProducts  HasCrCard  IsActiveMember  \\\n",
       "2852   40     6.0       0.00              2          1               1   \n",
       "9486   32     6.0  177729.13              1          1               1   \n",
       "1588   61     7.0  155973.13              1          0               1   \n",
       "905    45     9.0       0.00              1          1               1   \n",
       "9957   25     1.0       0.00              1          1               0   \n",
       "3166   62     4.0  119817.33              1          0               1   \n",
       "7917   38     9.0  126265.88              2          0               0   \n",
       "3252   31    10.0  155978.17              1          1               0   \n",
       "7043   34     2.0   87967.42              2          0               1   \n",
       "9381   45     2.0   91549.78              1          1               1   \n",
       "\n",
       "      EstimatedSalary  Exited  \n",
       "2852         97416.34       0  \n",
       "9486        161642.08       0  \n",
       "1588        147554.26       0  \n",
       "905          92027.69       1  \n",
       "9957        100598.98       0  \n",
       "3166         43507.10       1  \n",
       "7917         15859.95       0  \n",
       "3252         91510.71       0  \n",
       "7043        156309.52       0  \n",
       "9381         47139.44       0  "
      ]
     },
     "metadata": {},
     "output_type": "display_data"
    },
    {
     "name": "stdout",
     "output_type": "stream",
     "text": [
      "<class 'pandas.core.frame.DataFrame'>\n",
      "RangeIndex: 10000 entries, 0 to 9999\n",
      "Data columns (total 14 columns):\n",
      " #   Column           Non-Null Count  Dtype  \n",
      "---  ------           --------------  -----  \n",
      " 0   RowNumber        10000 non-null  int64  \n",
      " 1   CustomerId       10000 non-null  int64  \n",
      " 2   Surname          10000 non-null  object \n",
      " 3   CreditScore      10000 non-null  int64  \n",
      " 4   Geography        10000 non-null  object \n",
      " 5   Gender           10000 non-null  object \n",
      " 6   Age              10000 non-null  int64  \n",
      " 7   Tenure           9091 non-null   float64\n",
      " 8   Balance          10000 non-null  float64\n",
      " 9   NumOfProducts    10000 non-null  int64  \n",
      " 10  HasCrCard        10000 non-null  int64  \n",
      " 11  IsActiveMember   10000 non-null  int64  \n",
      " 12  EstimatedSalary  10000 non-null  float64\n",
      " 13  Exited           10000 non-null  int64  \n",
      "dtypes: float64(3), int64(8), object(3)\n",
      "memory usage: 1.1+ MB\n"
     ]
    }
   ],
   "source": [
    "#выведем на экран данные\n",
    "df = pd.read_csv('./Churn.csv')\n",
    "display(df.sample(10))\n",
    "df.info()"
   ]
  },
  {
   "cell_type": "code",
   "execution_count": 33,
   "metadata": {},
   "outputs": [],
   "source": [
    "#удалим лишние столбцы,не несущие необходимой информ.\n",
    "df = df.drop(['RowNumber', 'CustomerId', 'Surname'], axis=1)\n"
   ]
  },
  {
   "cell_type": "code",
   "execution_count": 34,
   "metadata": {},
   "outputs": [],
   "source": [
    "data = (np.random.randint(0,10,size=df['Tenure'].isna().sum()))\n",
    "df.loc[df['Tenure'].isna(),'Tenure']= data"
   ]
  },
  {
   "cell_type": "code",
   "execution_count": 35,
   "metadata": {
    "scrolled": false
   },
   "outputs": [
    {
     "data": {
      "text/html": [
       "<div>\n",
       "<style scoped>\n",
       "    .dataframe tbody tr th:only-of-type {\n",
       "        vertical-align: middle;\n",
       "    }\n",
       "\n",
       "    .dataframe tbody tr th {\n",
       "        vertical-align: top;\n",
       "    }\n",
       "\n",
       "    .dataframe thead th {\n",
       "        text-align: right;\n",
       "    }\n",
       "</style>\n",
       "<table border=\"1\" class=\"dataframe\">\n",
       "  <thead>\n",
       "    <tr style=\"text-align: right;\">\n",
       "      <th></th>\n",
       "      <th>CreditScore</th>\n",
       "      <th>Age</th>\n",
       "      <th>Tenure</th>\n",
       "      <th>Balance</th>\n",
       "      <th>NumOfProducts</th>\n",
       "      <th>HasCrCard</th>\n",
       "      <th>IsActiveMember</th>\n",
       "      <th>EstimatedSalary</th>\n",
       "      <th>Exited</th>\n",
       "      <th>Geography_Germany</th>\n",
       "      <th>Geography_Spain</th>\n",
       "      <th>Gender_Male</th>\n",
       "    </tr>\n",
       "  </thead>\n",
       "  <tbody>\n",
       "    <tr>\n",
       "      <th>5939</th>\n",
       "      <td>766</td>\n",
       "      <td>30</td>\n",
       "      <td>4.0</td>\n",
       "      <td>127786.28</td>\n",
       "      <td>2</td>\n",
       "      <td>1</td>\n",
       "      <td>1</td>\n",
       "      <td>28879.30</td>\n",
       "      <td>0</td>\n",
       "      <td>1</td>\n",
       "      <td>0</td>\n",
       "      <td>1</td>\n",
       "    </tr>\n",
       "    <tr>\n",
       "      <th>7155</th>\n",
       "      <td>515</td>\n",
       "      <td>45</td>\n",
       "      <td>7.0</td>\n",
       "      <td>120961.50</td>\n",
       "      <td>3</td>\n",
       "      <td>1</td>\n",
       "      <td>1</td>\n",
       "      <td>39288.11</td>\n",
       "      <td>1</td>\n",
       "      <td>1</td>\n",
       "      <td>0</td>\n",
       "      <td>1</td>\n",
       "    </tr>\n",
       "    <tr>\n",
       "      <th>4825</th>\n",
       "      <td>622</td>\n",
       "      <td>31</td>\n",
       "      <td>5.0</td>\n",
       "      <td>106260.67</td>\n",
       "      <td>1</td>\n",
       "      <td>1</td>\n",
       "      <td>1</td>\n",
       "      <td>2578.43</td>\n",
       "      <td>0</td>\n",
       "      <td>0</td>\n",
       "      <td>0</td>\n",
       "      <td>1</td>\n",
       "    </tr>\n",
       "    <tr>\n",
       "      <th>4483</th>\n",
       "      <td>539</td>\n",
       "      <td>38</td>\n",
       "      <td>8.0</td>\n",
       "      <td>105435.74</td>\n",
       "      <td>1</td>\n",
       "      <td>0</td>\n",
       "      <td>0</td>\n",
       "      <td>80575.44</td>\n",
       "      <td>1</td>\n",
       "      <td>1</td>\n",
       "      <td>0</td>\n",
       "      <td>0</td>\n",
       "    </tr>\n",
       "    <tr>\n",
       "      <th>1526</th>\n",
       "      <td>711</td>\n",
       "      <td>34</td>\n",
       "      <td>8.0</td>\n",
       "      <td>0.00</td>\n",
       "      <td>2</td>\n",
       "      <td>0</td>\n",
       "      <td>0</td>\n",
       "      <td>48260.19</td>\n",
       "      <td>0</td>\n",
       "      <td>0</td>\n",
       "      <td>0</td>\n",
       "      <td>1</td>\n",
       "    </tr>\n",
       "  </tbody>\n",
       "</table>\n",
       "</div>"
      ],
      "text/plain": [
       "      CreditScore  Age  Tenure    Balance  NumOfProducts  HasCrCard  \\\n",
       "5939          766   30     4.0  127786.28              2          1   \n",
       "7155          515   45     7.0  120961.50              3          1   \n",
       "4825          622   31     5.0  106260.67              1          1   \n",
       "4483          539   38     8.0  105435.74              1          0   \n",
       "1526          711   34     8.0       0.00              2          0   \n",
       "\n",
       "      IsActiveMember  EstimatedSalary  Exited  Geography_Germany  \\\n",
       "5939               1         28879.30       0                  1   \n",
       "7155               1         39288.11       1                  1   \n",
       "4825               1          2578.43       0                  0   \n",
       "4483               0         80575.44       1                  1   \n",
       "1526               0         48260.19       0                  0   \n",
       "\n",
       "      Geography_Spain  Gender_Male  \n",
       "5939                0            1  \n",
       "7155                0            1  \n",
       "4825                0            1  \n",
       "4483                0            0  \n",
       "1526                0            1  "
      ]
     },
     "execution_count": 35,
     "metadata": {},
     "output_type": "execute_result"
    }
   ],
   "source": [
    "#встречаются категориальные признаки,преобразуем эти столбцы.\n",
    "df = pd.get_dummies(df, drop_first=True)\n",
    "df.sample(5)"
   ]
  },
  {
   "cell_type": "code",
   "execution_count": 36,
   "metadata": {
    "scrolled": true
   },
   "outputs": [
    {
     "data": {
      "text/html": [
       "<div>\n",
       "<style scoped>\n",
       "    .dataframe tbody tr th:only-of-type {\n",
       "        vertical-align: middle;\n",
       "    }\n",
       "\n",
       "    .dataframe tbody tr th {\n",
       "        vertical-align: top;\n",
       "    }\n",
       "\n",
       "    .dataframe thead th {\n",
       "        text-align: right;\n",
       "    }\n",
       "</style>\n",
       "<table border=\"1\" class=\"dataframe\">\n",
       "  <thead>\n",
       "    <tr style=\"text-align: right;\">\n",
       "      <th></th>\n",
       "      <th>CreditScore</th>\n",
       "      <th>Age</th>\n",
       "      <th>Tenure</th>\n",
       "      <th>Balance</th>\n",
       "      <th>NumOfProducts</th>\n",
       "      <th>HasCrCard</th>\n",
       "      <th>IsActiveMember</th>\n",
       "      <th>EstimatedSalary</th>\n",
       "      <th>Exited</th>\n",
       "      <th>Geography_Germany</th>\n",
       "      <th>Geography_Spain</th>\n",
       "      <th>Gender_Male</th>\n",
       "    </tr>\n",
       "  </thead>\n",
       "  <tbody>\n",
       "    <tr>\n",
       "      <th>6669</th>\n",
       "      <td>517</td>\n",
       "      <td>56</td>\n",
       "      <td>9.0</td>\n",
       "      <td>142147.32</td>\n",
       "      <td>1</td>\n",
       "      <td>0</td>\n",
       "      <td>0</td>\n",
       "      <td>39488.04</td>\n",
       "      <td>1</td>\n",
       "      <td>0</td>\n",
       "      <td>0</td>\n",
       "      <td>1</td>\n",
       "    </tr>\n",
       "    <tr>\n",
       "      <th>1752</th>\n",
       "      <td>744</td>\n",
       "      <td>41</td>\n",
       "      <td>2.0</td>\n",
       "      <td>84113.41</td>\n",
       "      <td>1</td>\n",
       "      <td>1</td>\n",
       "      <td>0</td>\n",
       "      <td>197548.63</td>\n",
       "      <td>0</td>\n",
       "      <td>1</td>\n",
       "      <td>0</td>\n",
       "      <td>0</td>\n",
       "    </tr>\n",
       "    <tr>\n",
       "      <th>5682</th>\n",
       "      <td>620</td>\n",
       "      <td>29</td>\n",
       "      <td>9.0</td>\n",
       "      <td>0.00</td>\n",
       "      <td>2</td>\n",
       "      <td>1</td>\n",
       "      <td>0</td>\n",
       "      <td>13133.88</td>\n",
       "      <td>0</td>\n",
       "      <td>0</td>\n",
       "      <td>1</td>\n",
       "      <td>1</td>\n",
       "    </tr>\n",
       "    <tr>\n",
       "      <th>2053</th>\n",
       "      <td>850</td>\n",
       "      <td>63</td>\n",
       "      <td>8.0</td>\n",
       "      <td>169832.57</td>\n",
       "      <td>1</td>\n",
       "      <td>0</td>\n",
       "      <td>0</td>\n",
       "      <td>184107.26</td>\n",
       "      <td>1</td>\n",
       "      <td>0</td>\n",
       "      <td>0</td>\n",
       "      <td>1</td>\n",
       "    </tr>\n",
       "    <tr>\n",
       "      <th>604</th>\n",
       "      <td>702</td>\n",
       "      <td>37</td>\n",
       "      <td>10.0</td>\n",
       "      <td>150525.80</td>\n",
       "      <td>1</td>\n",
       "      <td>1</td>\n",
       "      <td>1</td>\n",
       "      <td>94728.49</td>\n",
       "      <td>0</td>\n",
       "      <td>0</td>\n",
       "      <td>0</td>\n",
       "      <td>1</td>\n",
       "    </tr>\n",
       "    <tr>\n",
       "      <th>8469</th>\n",
       "      <td>720</td>\n",
       "      <td>71</td>\n",
       "      <td>5.0</td>\n",
       "      <td>183135.39</td>\n",
       "      <td>2</td>\n",
       "      <td>1</td>\n",
       "      <td>1</td>\n",
       "      <td>197688.50</td>\n",
       "      <td>0</td>\n",
       "      <td>0</td>\n",
       "      <td>0</td>\n",
       "      <td>1</td>\n",
       "    </tr>\n",
       "    <tr>\n",
       "      <th>1198</th>\n",
       "      <td>584</td>\n",
       "      <td>38</td>\n",
       "      <td>9.0</td>\n",
       "      <td>104584.16</td>\n",
       "      <td>1</td>\n",
       "      <td>1</td>\n",
       "      <td>0</td>\n",
       "      <td>176678.72</td>\n",
       "      <td>0</td>\n",
       "      <td>0</td>\n",
       "      <td>0</td>\n",
       "      <td>1</td>\n",
       "    </tr>\n",
       "    <tr>\n",
       "      <th>1112</th>\n",
       "      <td>690</td>\n",
       "      <td>42</td>\n",
       "      <td>3.0</td>\n",
       "      <td>92578.14</td>\n",
       "      <td>2</td>\n",
       "      <td>0</td>\n",
       "      <td>0</td>\n",
       "      <td>70810.60</td>\n",
       "      <td>0</td>\n",
       "      <td>0</td>\n",
       "      <td>0</td>\n",
       "      <td>0</td>\n",
       "    </tr>\n",
       "    <tr>\n",
       "      <th>7889</th>\n",
       "      <td>600</td>\n",
       "      <td>57</td>\n",
       "      <td>9.0</td>\n",
       "      <td>138456.03</td>\n",
       "      <td>2</td>\n",
       "      <td>1</td>\n",
       "      <td>1</td>\n",
       "      <td>103548.25</td>\n",
       "      <td>0</td>\n",
       "      <td>1</td>\n",
       "      <td>0</td>\n",
       "      <td>1</td>\n",
       "    </tr>\n",
       "    <tr>\n",
       "      <th>6564</th>\n",
       "      <td>652</td>\n",
       "      <td>47</td>\n",
       "      <td>0.0</td>\n",
       "      <td>126597.89</td>\n",
       "      <td>2</td>\n",
       "      <td>1</td>\n",
       "      <td>1</td>\n",
       "      <td>38798.79</td>\n",
       "      <td>1</td>\n",
       "      <td>1</td>\n",
       "      <td>0</td>\n",
       "      <td>0</td>\n",
       "    </tr>\n",
       "  </tbody>\n",
       "</table>\n",
       "</div>"
      ],
      "text/plain": [
       "      CreditScore  Age  Tenure    Balance  NumOfProducts  HasCrCard  \\\n",
       "6669          517   56     9.0  142147.32              1          0   \n",
       "1752          744   41     2.0   84113.41              1          1   \n",
       "5682          620   29     9.0       0.00              2          1   \n",
       "2053          850   63     8.0  169832.57              1          0   \n",
       "604           702   37    10.0  150525.80              1          1   \n",
       "8469          720   71     5.0  183135.39              2          1   \n",
       "1198          584   38     9.0  104584.16              1          1   \n",
       "1112          690   42     3.0   92578.14              2          0   \n",
       "7889          600   57     9.0  138456.03              2          1   \n",
       "6564          652   47     0.0  126597.89              2          1   \n",
       "\n",
       "      IsActiveMember  EstimatedSalary  Exited  Geography_Germany  \\\n",
       "6669               0         39488.04       1                  0   \n",
       "1752               0        197548.63       0                  1   \n",
       "5682               0         13133.88       0                  0   \n",
       "2053               0        184107.26       1                  0   \n",
       "604                1         94728.49       0                  0   \n",
       "8469               1        197688.50       0                  0   \n",
       "1198               0        176678.72       0                  0   \n",
       "1112               0         70810.60       0                  0   \n",
       "7889               1        103548.25       0                  1   \n",
       "6564               1         38798.79       1                  1   \n",
       "\n",
       "      Geography_Spain  Gender_Male  \n",
       "6669                0            1  \n",
       "1752                0            0  \n",
       "5682                1            1  \n",
       "2053                0            1  \n",
       "604                 0            1  \n",
       "8469                0            1  \n",
       "1198                0            1  \n",
       "1112                0            0  \n",
       "7889                0            1  \n",
       "6564                0            0  "
      ]
     },
     "metadata": {},
     "output_type": "display_data"
    },
    {
     "name": "stdout",
     "output_type": "stream",
     "text": [
      "<class 'pandas.core.frame.DataFrame'>\n",
      "RangeIndex: 10000 entries, 0 to 9999\n",
      "Data columns (total 12 columns):\n",
      " #   Column             Non-Null Count  Dtype  \n",
      "---  ------             --------------  -----  \n",
      " 0   CreditScore        10000 non-null  int64  \n",
      " 1   Age                10000 non-null  int64  \n",
      " 2   Tenure             10000 non-null  float64\n",
      " 3   Balance            10000 non-null  float64\n",
      " 4   NumOfProducts      10000 non-null  int64  \n",
      " 5   HasCrCard          10000 non-null  int64  \n",
      " 6   IsActiveMember     10000 non-null  int64  \n",
      " 7   EstimatedSalary    10000 non-null  float64\n",
      " 8   Exited             10000 non-null  int64  \n",
      " 9   Geography_Germany  10000 non-null  uint8  \n",
      " 10  Geography_Spain    10000 non-null  uint8  \n",
      " 11  Gender_Male        10000 non-null  uint8  \n",
      "dtypes: float64(3), int64(6), uint8(3)\n",
      "memory usage: 732.5 KB\n"
     ]
    }
   ],
   "source": [
    "display(df.sample(10))\n",
    "df.info()"
   ]
  },
  {
   "cell_type": "code",
   "execution_count": 37,
   "metadata": {
    "scrolled": true
   },
   "outputs": [
    {
     "name": "stdout",
     "output_type": "stream",
     "text": [
      "<class 'pandas.core.frame.DataFrame'>\n",
      "RangeIndex: 10000 entries, 0 to 9999\n",
      "Data columns (total 12 columns):\n",
      " #   Column             Non-Null Count  Dtype  \n",
      "---  ------             --------------  -----  \n",
      " 0   CreditScore        10000 non-null  int64  \n",
      " 1   Age                10000 non-null  int64  \n",
      " 2   Tenure             10000 non-null  float64\n",
      " 3   Balance            10000 non-null  float64\n",
      " 4   NumOfProducts      10000 non-null  int64  \n",
      " 5   HasCrCard          10000 non-null  int64  \n",
      " 6   IsActiveMember     10000 non-null  int64  \n",
      " 7   EstimatedSalary    10000 non-null  float64\n",
      " 8   Exited             10000 non-null  int64  \n",
      " 9   Geography_Germany  10000 non-null  uint8  \n",
      " 10  Geography_Spain    10000 non-null  uint8  \n",
      " 11  Gender_Male        10000 non-null  uint8  \n",
      "dtypes: float64(3), int64(6), uint8(3)\n",
      "memory usage: 732.5 KB\n"
     ]
    }
   ],
   "source": [
    "#df.isna().sum()\n",
    "df.info()"
   ]
  },
  {
   "cell_type": "markdown",
   "metadata": {},
   "source": [
    "## Исследование задачи"
   ]
  },
  {
   "cell_type": "code",
   "execution_count": 38,
   "metadata": {},
   "outputs": [],
   "source": [
    "#Разделим данные\n",
    "features = df.drop('Exited', axis=1)\n",
    "target = df['Exited']\n",
    "\n"
   ]
  },
  {
   "cell_type": "code",
   "execution_count": 39,
   "metadata": {},
   "outputs": [
    {
     "name": "stdout",
     "output_type": "stream",
     "text": [
      "Размеры наборов данных:\n",
      "Обучающий:     (6000, 11)\n",
      "Валидационный: (2000, 11)\n",
      "Тестовый:      (2000, 11)\n"
     ]
    }
   ],
   "source": [
    "#Разделим получившиеся выборки на обучающую, валидационную, тестовую.\n",
    "features_train, features_valid_test, target_train, target_valid_test = train_test_split(\n",
    "    features, target, test_size=0.4, random_state=12345)\n",
    "\n",
    "features_valid, features_test, target_valid, target_test = train_test_split(\n",
    "    features_valid_test, target_valid_test, test_size=0.5, random_state=12345)\n",
    "\n",
    "print('Размеры наборов данных:')\n",
    "print('Обучающий:    ', features_train.shape)\n",
    "print('Валидационный:', features_valid.shape)\n",
    "print('Тестовый:     ', features_test.shape)\n"
   ]
  },
  {
   "cell_type": "code",
   "execution_count": 40,
   "metadata": {},
   "outputs": [],
   "source": [
    "#Маштабируем числовые признаки\n",
    "\n",
    "numeric = ['CreditScore', 'Age', 'Balance', 'EstimatedSalary']\n",
    "\n",
    "scaler = StandardScaler()\n",
    "scaler.fit(features_train[numeric])\n",
    "\n",
    "features_train[numeric] = scaler.transform(features_train[numeric])\n",
    "features_valid[numeric] = scaler.transform(features_valid[numeric])\n",
    "features_test[numeric] = scaler.transform(features_test[numeric])"
   ]
  },
  {
   "cell_type": "code",
   "execution_count": 41,
   "metadata": {
    "scrolled": true
   },
   "outputs": [
    {
     "name": "stdout",
     "output_type": "stream",
     "text": [
      "Глубина дерева: 6\n",
      "f1-мера:        0.5696969696969697\n",
      "roc_auc:        0.8164631712023421\n",
      "Доля правильных ответов: 0.858\n",
      "Соотношение классов:\n",
      "0    0.879\n",
      "1    0.121\n",
      "dtype: float64\n"
     ]
    }
   ],
   "source": [
    "#Дерево решений\n",
    "def decision_tree(features_tr, target_tr, features_val, target_val, cw=None):\n",
    "    best_depth = 0\n",
    "    best_f1 = 0\n",
    "    best_roc_auc = 0\n",
    "    best_predictions = 0\n",
    "    \n",
    "    for depth in range(2, 31):\n",
    "    \n",
    "        model = DecisionTreeClassifier(random_state=12345, max_depth=depth, class_weight=cw)\n",
    "        model.fit(features_tr, target_tr)\n",
    "    \n",
    "        predictions_valid = model.predict(features_val)\n",
    "        f1 = f1_score(target_val, predictions_valid)\n",
    "        \n",
    "        predictions = model.predict_proba(features_val)[:,1]\n",
    "        roc_auc = roc_auc_score(target_val, predictions)\n",
    "        \n",
    "        \n",
    "        if f1 > best_f1:\n",
    "            best_depth = depth\n",
    "            best_f1 = f1    \n",
    "            best_roc_auc = roc_auc\n",
    "            best_predictions = predictions_valid \n",
    "            \n",
    "    print(\"Глубина дерева:\", best_depth)\n",
    "    print(\"f1-мера:       \", best_f1)\n",
    "    print(\"roc_auc:       \", best_roc_auc)\n",
    "    print('Доля правильных ответов:',accuracy_score(target_val, best_predictions))\n",
    "    print('Соотношение классов:',pd.Series(best_predictions).value_counts(normalize=True), sep='\\n')\n",
    "decision_tree(features_train, target_train, features_valid, target_valid)"
   ]
  },
  {
   "cell_type": "code",
   "execution_count": 42,
   "metadata": {},
   "outputs": [
    {
     "name": "stdout",
     "output_type": "stream",
     "text": [
      "Кол-во деревьев: 13\n",
      "Глубина дерева:  18\n",
      "f1-мера:         0.6073446327683616\n",
      "roc_auc:         0.8223706893944436\n",
      "Доля правильных ответов: 0.861\n",
      "Соотношение классов:\n",
      "0    0.855\n",
      "1    0.145\n",
      "dtype: float64\n"
     ]
    }
   ],
   "source": [
    "#Random Forest\n",
    "def random_forest(features_tr, target_tr, features_val, target_val, cw=None):\n",
    "    best_est = 0\n",
    "    best_depth = 0\n",
    "    best_f1 = 0\n",
    "    best_roc_auc = 0\n",
    "    best_predictions = 0\n",
    "\n",
    "    for est in range(2, 21):\n",
    "        for depth in range(2,21):\n",
    "        \n",
    "            model = RandomForestClassifier(random_state=12345, n_estimators=est, max_depth=depth, class_weight=cw)\n",
    "    \n",
    "            model.fit(features_tr, target_tr)\n",
    "    \n",
    "            predictions_valid = model.predict(features_val)\n",
    "            f1 = f1_score(target_val, predictions_valid)\n",
    "            \n",
    "            predictions =model.predict_proba(features_val)[:,1]\n",
    "            roc_auc = roc_auc_score(target_val, predictions)\n",
    "        \n",
    "            if f1 > best_f1:\n",
    "                best_est = est\n",
    "                best_depth = depth\n",
    "                best_f1 = f1    \n",
    "                best_roc_auc = roc_auc  \n",
    "                best_predictions = predictions_valid \n",
    "    \n",
    "    print(\"Кол-во деревьев:\", best_est)\n",
    "    print(\"Глубина дерева: \", best_depth)\n",
    "    print(\"f1-мера:        \", best_f1)\n",
    "    print(\"roc_auc:        \", best_roc_auc)\n",
    "    print('Доля правильных ответов:',accuracy_score(target_val, best_predictions))\n",
    "    print('Соотношение классов:',pd.Series(best_predictions).value_counts(normalize=True), sep='\\n')\n",
    "\n",
    "random_forest(features_train, target_train, features_valid, target_valid)"
   ]
  },
  {
   "cell_type": "code",
   "execution_count": 43,
   "metadata": {
    "scrolled": false
   },
   "outputs": [
    {
     "name": "stdout",
     "output_type": "stream",
     "text": [
      "f1-мера:  0.33389544688026984\n",
      "roc_auc:  0.7589554134733455\n",
      "Доля правильных ответов: 0.8025\n",
      "Соотношение классов:\n",
      "0    0.9125\n",
      "1    0.0875\n",
      "dtype: float64\n"
     ]
    }
   ],
   "source": [
    "#LogisticRegression\n",
    "model = LogisticRegression(random_state=12345, solver='liblinear')\n",
    "model.fit(features_train, target_train)\n",
    "    \n",
    "predictions_valid = model.predict(features_valid)\n",
    "f1 = f1_score(target_valid, predictions_valid)\n",
    "\n",
    "predictions = model.predict_proba(features_valid)[:,1]\n",
    "roc_auc = roc_auc_score(target_valid, predictions)\n",
    "\n",
    "print(\"f1-мера: \", f1)\n",
    "print(\"roc_auc: \", roc_auc)  \n",
    "print('Доля правильных ответов:',accuracy_score(target_valid, predictions_valid))\n",
    "print('Соотношение классов:',pd.Series(predictions_valid).value_counts(normalize=True), sep='\\n')\n",
    "\n"
   ]
  },
  {
   "cell_type": "code",
   "execution_count": 44,
   "metadata": {
    "scrolled": true
   },
   "outputs": [
    {
     "name": "stdout",
     "output_type": "stream",
     "text": [
      "0    0.7963\n",
      "1    0.2037\n",
      "Name: Exited, dtype: float64\n"
     ]
    },
    {
     "data": {
      "text/plain": [
       "<AxesSubplot:>"
      ]
     },
     "execution_count": 44,
     "metadata": {},
     "output_type": "execute_result"
    },
    {
     "data": {
      "image/png": "[encoded data removed]",
      "text/plain": [
       "<Figure size 432x288 with 1 Axes>"
      ]
     },
     "metadata": {
      "needs_background": "light"
     },
     "output_type": "display_data"
    }
   ],
   "source": [
    "# Проверим, как часто в целевом признаке встречается класс «1» или «0»\n",
    "class_frequency = target.value_counts(normalize=True)\n",
    "print(class_frequency)\n",
    "class_frequency.plot(kind='bar') "
   ]
  },
  {
   "cell_type": "markdown",
   "metadata": {},
   "source": [
    "Вывод: Лучше всего себя показали дерево решений и случайный лес. "
   ]
  },
  {
   "cell_type": "markdown",
   "metadata": {},
   "source": [
    "## Борьба с дисбалансом"
   ]
  },
  {
   "cell_type": "markdown",
   "metadata": {},
   "source": [
    "Взвешивние классов. "
   ]
  },
  {
   "cell_type": "code",
   "execution_count": 45,
   "metadata": {
    "scrolled": false
   },
   "outputs": [
    {
     "name": "stdout",
     "output_type": "stream",
     "text": [
      "Глубина дерева: 5\n",
      "f1-мера:        0.5963791267305644\n",
      "roc_auc:        0.8310244134068074\n",
      "Доля правильных ответов: 0.8105\n",
      "Соотношение классов:\n",
      "0    0.7395\n",
      "1    0.2605\n",
      "dtype: float64\n"
     ]
    }
   ],
   "source": [
    "#Дерево решений\n",
    "decision_tree(features_train, target_train, features_valid, target_valid, cw ='balanced')"
   ]
  },
  {
   "cell_type": "code",
   "execution_count": 46,
   "metadata": {
    "scrolled": false
   },
   "outputs": [
    {
     "name": "stdout",
     "output_type": "stream",
     "text": [
      "Кол-во деревьев: 19\n",
      "Глубина дерева:  8\n",
      "f1-мера:         0.6269925611052072\n",
      "roc_auc:         0.8510606766312401\n",
      "Доля правильных ответов: 0.8245\n",
      "Соотношение классов:\n",
      "0    0.7385\n",
      "1    0.2615\n",
      "dtype: float64\n"
     ]
    }
   ],
   "source": [
    "#Случайный лес\n",
    "random_forest(features_train, target_train, features_valid, target_valid, cw='balanced')"
   ]
  },
  {
   "cell_type": "markdown",
   "metadata": {},
   "source": [
    "Показатели f1 и roc_auc возрасли."
   ]
  },
  {
   "cell_type": "markdown",
   "metadata": {},
   "source": [
    "Напишем функцию уменьшения и увеличения выборок. "
   ]
  },
  {
   "cell_type": "code",
   "execution_count": 47,
   "metadata": {},
   "outputs": [],
   "source": [
    "# Создадим функцию для увеличения обучающей выборки класса 1 в несколько раз\n",
    "def upsample(features, target, repeat):\n",
    "    # Разделилим обучающую выборку на отрицательные и положительные объекты.\n",
    "    features_zeros = features[target == 0]\n",
    "    features_ones = features[target == 1]\n",
    "    target_zeros = target[target == 0]\n",
    "    target_ones = target[target == 1]\n",
    "    # Объединим таблицы\n",
    "    features_upsampled = pd.concat([features_zeros] + [features_ones] * repeat)\n",
    "    target_upsampled = pd.concat([target_zeros] + [target_ones] * repeat)\n",
    "    # Перемешаем данные\n",
    "    features_upsampled, target_upsampled = shuffle(\n",
    "        features_upsampled, target_upsampled, random_state=12345)\n",
    "    \n",
    "    return features_upsampled, target_upsampled"
   ]
  },
  {
   "cell_type": "code",
   "execution_count": 48,
   "metadata": {},
   "outputs": [],
   "source": [
    "# Применим функцию для увеличения выборки класса 1 в 4 раза\n",
    "features_upsampled, target_upsampled = upsample(features_train, target_train, 4)"
   ]
  },
  {
   "cell_type": "code",
   "execution_count": 49,
   "metadata": {},
   "outputs": [
    {
     "name": "stdout",
     "output_type": "stream",
     "text": [
      "F1-мера наилучшей модели на валидационной выборке:\n",
      "0.5963791267305644\n",
      "Глубина дерева:\n",
      "5\n",
      "roc_auc:\n",
      "0.8310244134068074\n"
     ]
    }
   ],
   "source": [
    "#Модель дерева решений с учетом балансировки\n",
    "\n",
    "best_tree_model = None\n",
    "best_tree_result = 0\n",
    "best_tree_depth = 0\n",
    "best_predicted_valid = 0\n",
    "best_roc_auc = 0\n",
    "for depth in range(1, 51):\n",
    "    model = DecisionTreeClassifier(random_state=12345, max_depth=depth)\n",
    "    # инициализируем модель DecisionTreeClassifier с параметром random_state=12345 и max_depth=depth\n",
    "    model.fit(features_upsampled, target_upsampled) # обучим модель на новой тренировочной выборке\n",
    "    predicted_valid = model.predict(features_valid) # получим предсказания модели на валидационной выборке\n",
    "    \n",
    "    f1 = f1_score(target_valid, predicted_valid)\n",
    "    \n",
    "    predictions = model.predict_proba(features_valid)[:,1]\n",
    "    roc_auc = roc_auc_score(target_valid, predictions)\n",
    "    \n",
    "    \n",
    "    if f1 > best_tree_result:\n",
    "        best_tree_model = model\n",
    "        best_tree_result = f1\n",
    "        best_tree_depth = depth\n",
    "        best_predicted_valid = predicted_valid\n",
    "        best_roc_auc = roc_auc\n",
    "        \n",
    "print(\"F1-мера наилучшей модели на валидационной выборке:\", best_tree_result,\n",
    "      \"Глубина дерева:\", best_tree_depth,\"roc_auc:\", best_roc_auc, sep='\\n')"
   ]
  },
  {
   "cell_type": "code",
   "execution_count": 50,
   "metadata": {},
   "outputs": [
    {
     "name": "stdout",
     "output_type": "stream",
     "text": [
      "F1-мера наилучшей модели на валидационной выборке:\n",
      "0.6028833551769331\n",
      "Количество деревьев:\n",
      "25\n",
      "Максимальная глубина:\n",
      "31\n",
      "roc_auc:\n",
      "0.8251577253673201\n"
     ]
    }
   ],
   "source": [
    "#Модель Случайный лес с учетом балансировки\n",
    "best_forest_model = None\n",
    "best_forest_result = 0\n",
    "best_forest_est = 0\n",
    "best_forest_depth = 0\n",
    "best_predicted_valid = 0\n",
    "best_roc_auc = 0\n",
    "for est in range(21, 41, 2):\n",
    "    for depth in range (31, 51, 2):\n",
    "        model = RandomForestClassifier(random_state=12345, n_estimators=est, max_depth=depth)\n",
    "        # инициализируем модель RandomForestClassifier с параметрами random_state=12345, \n",
    "        # n_estimators=est и max_depth=depth\n",
    "        model.fit(features_upsampled, target_upsampled) # обучим модель на тренировочной выборке\n",
    "        predicted_valid = model.predict(features_valid) # получим предсказания модели на валидационной выборке\n",
    "        f1 = f1_score(target_valid, predicted_valid)\n",
    "        \n",
    "        predictions = model.predict_proba(features_valid)[:,1]\n",
    "        roc_auc = roc_auc_score(target_valid, predictions)\n",
    "        \n",
    "        \n",
    "        if f1 > best_forest_result:\n",
    "            best_forest_model = model\n",
    "            best_forest_result = f1\n",
    "            best_forest_est = est\n",
    "            best_forest_depth = depth\n",
    "            best_predicted_valid = predicted_valid\n",
    "            best_roc_auc = roc_auc\n",
    "            \n",
    "\n",
    "print(\"F1-мера наилучшей модели на валидационной выборке:\", best_forest_result,\n",
    "      \"Количество деревьев:\", best_forest_est, \"Максимальная глубина:\", best_forest_depth,\"roc_auc:\", best_roc_auc, sep='\\n')"
   ]
  },
  {
   "cell_type": "code",
   "execution_count": 51,
   "metadata": {},
   "outputs": [],
   "source": [
    "# Применим функцию для увеличения выборки класса 1 в 4 раза\n",
    "features_downsample, target_downsample = upsample(features_train, target_train, 4)"
   ]
  },
  {
   "cell_type": "code",
   "execution_count": 52,
   "metadata": {},
   "outputs": [],
   "source": [
    "# Создадим функцию для уменьшения обучающей выборки класса 1 в несколько раз\n",
    "def downsample(features, target, repeat):\n",
    "    # Разделилим обучающую выборку на отрицательные и положительные объекты.\n",
    "    features_zeros = features[target == 0]\n",
    "    features_ones = features[target == 1]\n",
    "    target_zeros = target[target == 0]\n",
    "    target_ones = target[target == 1]\n",
    "    # Объединим таблицы\n",
    "    features_downsample = pd.concat([features_zeros] + [features_ones] * repeat)\n",
    "    target_downsample = pd.concat([target_zeros] + [target_ones] * repeat)\n",
    "    # Перемешаем данные\n",
    "    features_downsample, target_downsample = shuffle(\n",
    "        features_downsample, target_downsample, random_state=12345)\n",
    "    \n",
    "    return features_downsample, target_downsample"
   ]
  },
  {
   "cell_type": "code",
   "execution_count": null,
   "metadata": {},
   "outputs": [],
   "source": [
    "#Модель дерева решений с учетом балансировки\n",
    "\n",
    "best_tree_model = None\n",
    "best_tree_result = 0\n",
    "best_tree_depth = 0\n",
    "best_predicted_valid = 0\n",
    "best_roc_auc = 0\n",
    "for depth in range(1, 51):\n",
    "    model = DecisionTreeClassifier(random_state=12345, max_depth=depth)\n",
    "    # инициализируем модель DecisionTreeClassifier с параметром random_state=12345 и max_depth=depth\n",
    "    model.fit(features_downsample, target_downsample) # обучим модель на новой тренировочной выборке\n",
    "    predicted_valid = model.predict(features_valid) # получим предсказания модели на валидационной выборке\n",
    "    f1 = f1_score(target_valid, predicted_valid)\n",
    "    \n",
    "    predictions = model.predict_proba(features_valid)[:,1]\n",
    "    roc_auc = roc_auc_score(target_valid, predictions)\n",
    "    \n",
    "    \n",
    "    if f1 > best_tree_result:\n",
    "        best_tree_model = model\n",
    "        best_tree_result = f1\n",
    "        best_tree_depth = depth\n",
    "        best_predicted_valid = predicted_valid\n",
    "        best_roc_auc = roc_auc\n",
    "        \n",
    "\n",
    "print(\"F1-мера наилучшей модели на валидационной выборке:\", best_tree_result,\n",
    "      \"Глубина дерева:\", best_tree_depth,\"roc_auc:\", best_roc_auc, sep='\\n')"
   ]
  },
  {
   "cell_type": "code",
   "execution_count": null,
   "metadata": {},
   "outputs": [],
   "source": [
    "#Модель Случайный лес с учетом балансировки\n",
    "best_forest_model = None\n",
    "best_forest_result = 0\n",
    "best_forest_est = 0\n",
    "best_forest_depth = 0\n",
    "best_predicted_valid = 0\n",
    "best_roc_auc = 0\n",
    "for est in range(21, 41, 2):\n",
    "    for depth in range (31, 51, 2):\n",
    "        model = RandomForestClassifier(random_state=12345, n_estimators=est, max_depth=depth)\n",
    "        # инициализируем модель RandomForestClassifier с параметрами random_state=12345, \n",
    "        # n_estimators=est и max_depth=depth\n",
    "        model.fit(features_downsample, target_downsample) # обучим модель на тренировочной выборке\n",
    "        predicted_valid = model.predict(features_valid) # получим предсказания модели на валидационной выборке\n",
    "        f1 = f1_score(target_valid, predicted_valid)\n",
    "        \n",
    "        \n",
    "        predictions = model.predict_proba(features_valid)[:,1]\n",
    "        roc_auc = roc_auc_score(target_valid, predictions)\n",
    "        \n",
    "        if f1 > best_forest_result:\n",
    "            best_forest_model = model\n",
    "            best_forest_result = f1\n",
    "            best_forest_est = est\n",
    "            best_forest_depth = depth\n",
    "            best_predicted_valid = predicted_valid\n",
    "            best_roc_auc = roc_auc\n",
    "\n",
    "print(\"F1-мера наилучшей модели на валидационной выборке:\", best_forest_result,\n",
    "      \"Количество деревьев:\", best_forest_est, \"Максимальная глубина:\", best_forest_depth, \"roc_auc:\", best_roc_auc, sep='\\n')"
   ]
  },
  {
   "cell_type": "markdown",
   "metadata": {},
   "source": [
    "## Тестирование модели"
   ]
  },
  {
   "cell_type": "markdown",
   "metadata": {},
   "source": [
    "Финанльное теслирование"
   ]
  },
  {
   "cell_type": "code",
   "execution_count": null,
   "metadata": {},
   "outputs": [],
   "source": [
    "#Объеденим выборки для тестирования\n",
    "features = pd.concat([features_train, features_valid], ignore_index=True)\n",
    "target = pd.concat([target_train, target_valid], ignore_index=True)"
   ]
  },
  {
   "cell_type": "code",
   "execution_count": null,
   "metadata": {
    "scrolled": true
   },
   "outputs": [],
   "source": [
    "\n",
    "model = RandomForestClassifier(random_state=12345, n_estimators=20,max_depth=8)\n",
    "\n",
    "model.fit(features_downsample, target_downsample)\n",
    "predictions = model.predict(features_test)\n",
    "\n",
    "f1 = f1_score(target_test, predictions)\n",
    "\n",
    "predictions = model.predict_proba(features_test)[:,1]\n",
    "roc_auc = roc_auc_score(target_test, predictions)\n",
    "\n",
    "print(' f1 = {}, \\n roc_auc = {}'.format(round(f1,4), round(roc_auc,4)))\n",
    "print('')\n",
    "\n",
    "importance = model.feature_importances_\n",
    "\n",
    "for i,v in enumerate(importance):\n",
    "    print('Feature: %0d, Score: %.5f' % (i,v))\n",
    "\n",
    "pyplot.bar([x for x in range(len(importance))], importance)\n",
    "plt.title('Важность факторов')\n",
    "pyplot.show()\n",
    "\n",
    "n=1\n"
   ]
  },
  {
   "cell_type": "markdown",
   "metadata": {},
   "source": [
    "Вывод:\n",
    "\n",
    "Модели продемонстрировали хороший результат на тестовой выборке,\n",
    "у обоих моделей f1-мера больше 0.59, согласно условиям задачи. auc_roc > 0.5, модели адекватны."
   ]
  },
  {
   "cell_type": "markdown",
   "metadata": {},
   "source": [
    "## Чек-лист готовности проекта"
   ]
  },
  {
   "cell_type": "markdown",
   "metadata": {},
   "source": [
    "Поставьте 'x' в выполненных пунктах. Далее нажмите Shift+Enter."
   ]
  },
  {
   "cell_type": "markdown",
   "metadata": {},
   "source": [
    "- [x]  Jupyter Notebook открыт\n",
    "- [x]  Весь код выполняется без ошибок\n",
    "- [x]  Ячейки с кодом расположены в порядке исполнения\n",
    "- [x]  Выполнен шаг 1: данные подготовлены\n",
    "- [x]  Выполнен шаг 2: задача исследована\n",
    "    - [x]  Исследован баланс классов\n",
    "    - [x]  Изучены модели без учёта дисбаланса\n",
    "    - [x]  Написаны выводы по результатам исследования\n",
    "- [x]  Выполнен шаг 3: учтён дисбаланс\n",
    "    - [x]  Применено несколько способов борьбы с дисбалансом\n",
    "    - [x]  Написаны выводы по результатам исследования\n",
    "- [x]  Выполнен шаг 4: проведено тестирование\n",
    "- [x]  Удалось достичь *F1*-меры не менее 0.59\n",
    "- [x]  Исследована метрика *AUC-ROC*"
   ]
  }
 ],
 "metadata": {
  "ExecuteTimeLog": [
   {
    "duration": 1634,
    "start_time": "2022-11-27T09:42:43.514Z"
   },
   {
    "duration": 141,
    "start_time": "2022-11-27T09:42:45.149Z"
   },
   {
    "duration": 120,
    "start_time": "2022-11-27T09:43:40.627Z"
   },
   {
    "duration": 71,
    "start_time": "2022-11-27T09:44:10.679Z"
   },
   {
    "duration": 68,
    "start_time": "2022-11-27T09:44:17.776Z"
   },
   {
    "duration": 1746,
    "start_time": "2022-11-28T12:10:01.614Z"
   },
   {
    "duration": 108,
    "start_time": "2022-11-28T12:10:03.362Z"
   },
   {
    "duration": 4,
    "start_time": "2022-11-28T12:10:03.472Z"
   },
   {
    "duration": 34,
    "start_time": "2022-11-28T12:10:03.478Z"
   },
   {
    "duration": 5,
    "start_time": "2022-11-28T12:10:03.514Z"
   },
   {
    "duration": 32,
    "start_time": "2022-11-28T12:10:03.521Z"
   },
   {
    "duration": 9,
    "start_time": "2022-11-28T12:10:03.555Z"
   },
   {
    "duration": 36,
    "start_time": "2022-11-28T12:10:03.566Z"
   },
   {
    "duration": 146,
    "start_time": "2022-11-28T12:10:03.603Z"
   },
   {
    "duration": 0,
    "start_time": "2022-11-28T12:10:03.752Z"
   },
   {
    "duration": 0,
    "start_time": "2022-11-28T12:10:03.753Z"
   },
   {
    "duration": 0,
    "start_time": "2022-11-28T12:10:03.754Z"
   },
   {
    "duration": 0,
    "start_time": "2022-11-28T12:10:03.754Z"
   },
   {
    "duration": 0,
    "start_time": "2022-11-28T12:10:03.755Z"
   },
   {
    "duration": 0,
    "start_time": "2022-11-28T12:10:03.756Z"
   },
   {
    "duration": 0,
    "start_time": "2022-11-28T12:10:03.758Z"
   },
   {
    "duration": 0,
    "start_time": "2022-11-28T12:10:03.759Z"
   },
   {
    "duration": 0,
    "start_time": "2022-11-28T12:10:03.759Z"
   },
   {
    "duration": 0,
    "start_time": "2022-11-28T12:10:03.760Z"
   },
   {
    "duration": 1551,
    "start_time": "2022-11-30T21:26:31.796Z"
   },
   {
    "duration": 209,
    "start_time": "2022-11-30T21:26:33.349Z"
   },
   {
    "duration": 4,
    "start_time": "2022-11-30T21:26:33.559Z"
   },
   {
    "duration": 24,
    "start_time": "2022-11-30T21:26:33.565Z"
   },
   {
    "duration": 4,
    "start_time": "2022-11-30T21:26:33.591Z"
   },
   {
    "duration": 24,
    "start_time": "2022-11-30T21:26:33.597Z"
   },
   {
    "duration": 8,
    "start_time": "2022-11-30T21:26:33.623Z"
   },
   {
    "duration": 21,
    "start_time": "2022-11-30T21:26:33.633Z"
   },
   {
    "duration": 148,
    "start_time": "2022-11-30T21:26:33.656Z"
   },
   {
    "duration": 0,
    "start_time": "2022-11-30T21:26:33.806Z"
   },
   {
    "duration": 0,
    "start_time": "2022-11-30T21:26:33.807Z"
   },
   {
    "duration": 0,
    "start_time": "2022-11-30T21:26:33.808Z"
   },
   {
    "duration": 0,
    "start_time": "2022-11-30T21:26:33.809Z"
   },
   {
    "duration": 0,
    "start_time": "2022-11-30T21:26:33.810Z"
   },
   {
    "duration": 0,
    "start_time": "2022-11-30T21:26:33.810Z"
   },
   {
    "duration": 0,
    "start_time": "2022-11-30T21:26:33.811Z"
   },
   {
    "duration": 0,
    "start_time": "2022-11-30T21:26:33.813Z"
   },
   {
    "duration": 0,
    "start_time": "2022-11-30T21:26:33.813Z"
   },
   {
    "duration": 0,
    "start_time": "2022-11-30T21:26:33.814Z"
   },
   {
    "duration": 21,
    "start_time": "2022-11-30T21:27:06.778Z"
   },
   {
    "duration": 17,
    "start_time": "2022-11-30T21:28:20.934Z"
   },
   {
    "duration": 23,
    "start_time": "2022-11-30T21:29:51.803Z"
   },
   {
    "duration": 4,
    "start_time": "2022-11-30T21:33:13.856Z"
   },
   {
    "duration": 63,
    "start_time": "2022-11-30T21:33:13.875Z"
   },
   {
    "duration": 5,
    "start_time": "2022-11-30T21:33:13.941Z"
   },
   {
    "duration": 34,
    "start_time": "2022-11-30T21:33:13.947Z"
   },
   {
    "duration": 25,
    "start_time": "2022-11-30T21:33:13.985Z"
   },
   {
    "duration": 10,
    "start_time": "2022-11-30T21:33:14.013Z"
   },
   {
    "duration": 30,
    "start_time": "2022-11-30T21:33:14.025Z"
   },
   {
    "duration": 44,
    "start_time": "2022-11-30T21:33:14.057Z"
   },
   {
    "duration": 0,
    "start_time": "2022-11-30T21:33:14.103Z"
   },
   {
    "duration": 0,
    "start_time": "2022-11-30T21:33:14.104Z"
   },
   {
    "duration": 0,
    "start_time": "2022-11-30T21:33:14.105Z"
   },
   {
    "duration": 0,
    "start_time": "2022-11-30T21:33:14.107Z"
   },
   {
    "duration": 0,
    "start_time": "2022-11-30T21:33:14.108Z"
   },
   {
    "duration": 0,
    "start_time": "2022-11-30T21:33:14.109Z"
   },
   {
    "duration": 0,
    "start_time": "2022-11-30T21:33:14.110Z"
   },
   {
    "duration": 0,
    "start_time": "2022-11-30T21:33:14.112Z"
   },
   {
    "duration": 0,
    "start_time": "2022-11-30T21:33:14.113Z"
   },
   {
    "duration": 0,
    "start_time": "2022-11-30T21:33:14.114Z"
   },
   {
    "duration": 3,
    "start_time": "2022-11-30T21:35:28.977Z"
   },
   {
    "duration": 64,
    "start_time": "2022-11-30T21:35:28.982Z"
   },
   {
    "duration": 4,
    "start_time": "2022-11-30T21:35:29.047Z"
   },
   {
    "duration": 21,
    "start_time": "2022-11-30T21:35:29.053Z"
   },
   {
    "duration": 19,
    "start_time": "2022-11-30T21:35:29.076Z"
   },
   {
    "duration": 4,
    "start_time": "2022-11-30T21:35:29.096Z"
   },
   {
    "duration": 13,
    "start_time": "2022-11-30T21:35:29.101Z"
   },
   {
    "duration": 20,
    "start_time": "2022-11-30T21:35:29.115Z"
   },
   {
    "duration": 19,
    "start_time": "2022-11-30T21:35:29.137Z"
   },
   {
    "duration": 0,
    "start_time": "2022-11-30T21:35:29.180Z"
   },
   {
    "duration": 0,
    "start_time": "2022-11-30T21:35:29.182Z"
   },
   {
    "duration": 0,
    "start_time": "2022-11-30T21:35:29.183Z"
   },
   {
    "duration": 0,
    "start_time": "2022-11-30T21:35:29.184Z"
   },
   {
    "duration": 0,
    "start_time": "2022-11-30T21:35:29.185Z"
   },
   {
    "duration": 0,
    "start_time": "2022-11-30T21:35:29.186Z"
   },
   {
    "duration": 0,
    "start_time": "2022-11-30T21:35:29.188Z"
   },
   {
    "duration": 0,
    "start_time": "2022-11-30T21:35:29.189Z"
   },
   {
    "duration": 0,
    "start_time": "2022-11-30T21:35:29.190Z"
   },
   {
    "duration": 0,
    "start_time": "2022-11-30T21:35:29.191Z"
   },
   {
    "duration": 74,
    "start_time": "2022-11-30T21:37:50.845Z"
   },
   {
    "duration": 75,
    "start_time": "2022-11-30T21:38:00.133Z"
   },
   {
    "duration": 22,
    "start_time": "2022-11-30T21:39:33.074Z"
   },
   {
    "duration": 22,
    "start_time": "2022-11-30T21:39:52.774Z"
   },
   {
    "duration": 4,
    "start_time": "2022-11-30T21:40:04.618Z"
   },
   {
    "duration": 57,
    "start_time": "2022-11-30T21:40:06.844Z"
   },
   {
    "duration": 4,
    "start_time": "2022-11-30T21:40:09.066Z"
   },
   {
    "duration": 20,
    "start_time": "2022-11-30T21:40:11.635Z"
   },
   {
    "duration": 20,
    "start_time": "2022-11-30T21:40:13.021Z"
   },
   {
    "duration": 4,
    "start_time": "2022-11-30T21:40:18.080Z"
   },
   {
    "duration": 7,
    "start_time": "2022-11-30T21:40:20.832Z"
   },
   {
    "duration": 19,
    "start_time": "2022-11-30T21:40:22.195Z"
   },
   {
    "duration": 28,
    "start_time": "2022-11-30T21:41:11.017Z"
   },
   {
    "duration": 5,
    "start_time": "2022-11-30T21:42:16.559Z"
   },
   {
    "duration": 20,
    "start_time": "2022-11-30T21:42:17.845Z"
   },
   {
    "duration": 4,
    "start_time": "2022-11-30T21:42:21.830Z"
   },
   {
    "duration": 8,
    "start_time": "2022-11-30T21:42:22.528Z"
   },
   {
    "duration": 29,
    "start_time": "2022-11-30T21:42:25.561Z"
   },
   {
    "duration": 21,
    "start_time": "2022-11-30T21:42:28.627Z"
   },
   {
    "duration": 26,
    "start_time": "2022-11-30T21:43:01.314Z"
   },
   {
    "duration": 17,
    "start_time": "2022-11-30T21:43:02.466Z"
   },
   {
    "duration": 17,
    "start_time": "2022-11-30T22:00:10.305Z"
   },
   {
    "duration": 71,
    "start_time": "2022-11-30T22:00:21.366Z"
   },
   {
    "duration": 12,
    "start_time": "2022-11-30T22:00:33.250Z"
   },
   {
    "duration": 14,
    "start_time": "2022-11-30T22:00:59.284Z"
   },
   {
    "duration": 13,
    "start_time": "2022-11-30T22:01:29.908Z"
   },
   {
    "duration": 11,
    "start_time": "2022-11-30T22:02:11.508Z"
   },
   {
    "duration": 5,
    "start_time": "2022-11-30T22:02:20.241Z"
   },
   {
    "duration": 8,
    "start_time": "2022-11-30T22:02:36.829Z"
   },
   {
    "duration": 6,
    "start_time": "2022-11-30T22:02:57.582Z"
   },
   {
    "duration": 5,
    "start_time": "2022-11-30T22:05:06.890Z"
   },
   {
    "duration": 5,
    "start_time": "2022-11-30T22:13:59.860Z"
   },
   {
    "duration": 4,
    "start_time": "2022-11-30T22:22:05.899Z"
   },
   {
    "duration": 93,
    "start_time": "2022-11-30T22:22:05.909Z"
   },
   {
    "duration": 4,
    "start_time": "2022-11-30T22:22:06.004Z"
   },
   {
    "duration": 26,
    "start_time": "2022-11-30T22:22:06.009Z"
   },
   {
    "duration": 26,
    "start_time": "2022-11-30T22:22:06.037Z"
   },
   {
    "duration": 18,
    "start_time": "2022-11-30T22:22:06.066Z"
   },
   {
    "duration": 30,
    "start_time": "2022-11-30T22:22:06.086Z"
   },
   {
    "duration": 16,
    "start_time": "2022-11-30T22:22:06.118Z"
   },
   {
    "duration": 10,
    "start_time": "2022-11-30T22:22:06.136Z"
   },
   {
    "duration": 34,
    "start_time": "2022-11-30T22:22:06.148Z"
   },
   {
    "duration": 32,
    "start_time": "2022-11-30T22:22:06.183Z"
   },
   {
    "duration": 0,
    "start_time": "2022-11-30T22:22:06.217Z"
   },
   {
    "duration": 0,
    "start_time": "2022-11-30T22:22:06.218Z"
   },
   {
    "duration": 0,
    "start_time": "2022-11-30T22:22:06.219Z"
   },
   {
    "duration": 0,
    "start_time": "2022-11-30T22:22:06.220Z"
   },
   {
    "duration": 0,
    "start_time": "2022-11-30T22:22:06.222Z"
   },
   {
    "duration": 0,
    "start_time": "2022-11-30T22:22:06.223Z"
   },
   {
    "duration": 0,
    "start_time": "2022-11-30T22:22:06.224Z"
   },
   {
    "duration": 0,
    "start_time": "2022-11-30T22:22:06.225Z"
   },
   {
    "duration": 0,
    "start_time": "2022-11-30T22:22:06.226Z"
   },
   {
    "duration": 0,
    "start_time": "2022-11-30T22:22:06.227Z"
   },
   {
    "duration": 4,
    "start_time": "2022-11-30T22:24:25.656Z"
   },
   {
    "duration": 58,
    "start_time": "2022-11-30T22:24:25.666Z"
   },
   {
    "duration": 5,
    "start_time": "2022-11-30T22:24:25.726Z"
   },
   {
    "duration": 23,
    "start_time": "2022-11-30T22:24:25.732Z"
   },
   {
    "duration": 9,
    "start_time": "2022-11-30T22:24:25.757Z"
   },
   {
    "duration": 0,
    "start_time": "2022-11-30T22:24:25.768Z"
   },
   {
    "duration": 0,
    "start_time": "2022-11-30T22:24:25.769Z"
   },
   {
    "duration": 0,
    "start_time": "2022-11-30T22:24:25.770Z"
   },
   {
    "duration": 0,
    "start_time": "2022-11-30T22:24:25.777Z"
   },
   {
    "duration": 0,
    "start_time": "2022-11-30T22:24:25.778Z"
   },
   {
    "duration": 0,
    "start_time": "2022-11-30T22:24:25.779Z"
   },
   {
    "duration": 0,
    "start_time": "2022-11-30T22:24:25.780Z"
   },
   {
    "duration": 0,
    "start_time": "2022-11-30T22:24:25.781Z"
   },
   {
    "duration": 0,
    "start_time": "2022-11-30T22:24:25.782Z"
   },
   {
    "duration": 0,
    "start_time": "2022-11-30T22:24:25.783Z"
   },
   {
    "duration": 0,
    "start_time": "2022-11-30T22:24:25.784Z"
   },
   {
    "duration": 0,
    "start_time": "2022-11-30T22:24:25.785Z"
   },
   {
    "duration": 0,
    "start_time": "2022-11-30T22:24:25.786Z"
   },
   {
    "duration": 0,
    "start_time": "2022-11-30T22:24:25.787Z"
   },
   {
    "duration": 0,
    "start_time": "2022-11-30T22:24:25.788Z"
   },
   {
    "duration": 5,
    "start_time": "2022-11-30T22:24:44.846Z"
   },
   {
    "duration": 21,
    "start_time": "2022-11-30T22:24:49.934Z"
   },
   {
    "duration": 19,
    "start_time": "2022-11-30T22:25:06.058Z"
   },
   {
    "duration": 5,
    "start_time": "2022-11-30T22:27:25.699Z"
   },
   {
    "duration": 20,
    "start_time": "2022-11-30T22:27:27.064Z"
   },
   {
    "duration": 19,
    "start_time": "2022-11-30T22:27:48.098Z"
   },
   {
    "duration": 6,
    "start_time": "2022-11-30T22:28:57.153Z"
   },
   {
    "duration": 27,
    "start_time": "2022-11-30T22:29:34.108Z"
   },
   {
    "duration": 22,
    "start_time": "2022-11-30T22:29:45.772Z"
   },
   {
    "duration": 19,
    "start_time": "2022-11-30T22:30:02.934Z"
   },
   {
    "duration": 6,
    "start_time": "2022-11-30T22:31:42.656Z"
   },
   {
    "duration": 21,
    "start_time": "2022-11-30T22:31:52.584Z"
   },
   {
    "duration": 9,
    "start_time": "2022-11-30T22:33:58.089Z"
   },
   {
    "duration": 17,
    "start_time": "2022-11-30T22:34:53.666Z"
   },
   {
    "duration": 1500,
    "start_time": "2022-12-01T07:18:13.234Z"
   },
   {
    "duration": 206,
    "start_time": "2022-12-01T07:18:14.736Z"
   },
   {
    "duration": 4,
    "start_time": "2022-12-01T07:18:14.944Z"
   },
   {
    "duration": 44,
    "start_time": "2022-12-01T07:18:14.951Z"
   },
   {
    "duration": 5,
    "start_time": "2022-12-01T07:18:14.996Z"
   },
   {
    "duration": 31,
    "start_time": "2022-12-01T07:18:15.003Z"
   },
   {
    "duration": 30,
    "start_time": "2022-12-01T07:18:15.035Z"
   },
   {
    "duration": 7,
    "start_time": "2022-12-01T07:18:15.067Z"
   },
   {
    "duration": 29,
    "start_time": "2022-12-01T07:18:15.075Z"
   },
   {
    "duration": 6,
    "start_time": "2022-12-01T07:18:15.107Z"
   },
   {
    "duration": 124,
    "start_time": "2022-12-01T07:18:15.115Z"
   },
   {
    "duration": 0,
    "start_time": "2022-12-01T07:18:15.241Z"
   },
   {
    "duration": 0,
    "start_time": "2022-12-01T07:18:15.243Z"
   },
   {
    "duration": 0,
    "start_time": "2022-12-01T07:18:15.244Z"
   },
   {
    "duration": 1,
    "start_time": "2022-12-01T07:18:15.245Z"
   },
   {
    "duration": 0,
    "start_time": "2022-12-01T07:18:15.247Z"
   },
   {
    "duration": 0,
    "start_time": "2022-12-01T07:18:15.248Z"
   },
   {
    "duration": 0,
    "start_time": "2022-12-01T07:18:15.250Z"
   },
   {
    "duration": 0,
    "start_time": "2022-12-01T07:18:15.251Z"
   },
   {
    "duration": 0,
    "start_time": "2022-12-01T07:18:15.253Z"
   },
   {
    "duration": 0,
    "start_time": "2022-12-01T07:18:15.254Z"
   },
   {
    "duration": 0,
    "start_time": "2022-12-01T07:18:15.278Z"
   },
   {
    "duration": 0,
    "start_time": "2022-12-01T07:18:15.280Z"
   },
   {
    "duration": 60,
    "start_time": "2022-12-01T07:18:36.626Z"
   },
   {
    "duration": 4,
    "start_time": "2022-12-01T07:20:53.470Z"
   },
   {
    "duration": 231,
    "start_time": "2022-12-01T07:20:56.006Z"
   },
   {
    "duration": 45,
    "start_time": "2022-12-01T07:21:36.272Z"
   },
   {
    "duration": 165,
    "start_time": "2022-12-01T07:22:00.700Z"
   },
   {
    "duration": 31,
    "start_time": "2022-12-01T07:22:54.809Z"
   },
   {
    "duration": 57,
    "start_time": "2022-12-01T07:23:11.512Z"
   },
   {
    "duration": 22,
    "start_time": "2022-12-01T07:23:28.998Z"
   },
   {
    "duration": 433,
    "start_time": "2022-12-01T07:23:31.095Z"
   },
   {
    "duration": 440,
    "start_time": "2022-12-01T07:23:50.623Z"
   },
   {
    "duration": 19382,
    "start_time": "2022-12-01T07:24:05.641Z"
   },
   {
    "duration": 81,
    "start_time": "2022-12-01T07:27:53.762Z"
   },
   {
    "duration": 26,
    "start_time": "2022-12-01T07:29:31.999Z"
   },
   {
    "duration": 14621,
    "start_time": "2022-12-01T07:29:33.429Z"
   },
   {
    "duration": 14752,
    "start_time": "2022-12-01T07:31:28.027Z"
   },
   {
    "duration": 686,
    "start_time": "2022-12-01T07:33:20.692Z"
   },
   {
    "duration": 36678,
    "start_time": "2022-12-01T07:34:47.812Z"
   },
   {
    "duration": 797,
    "start_time": "2022-12-01T07:35:25.180Z"
   },
   {
    "duration": 84,
    "start_time": "2022-12-01T07:36:41.427Z"
   },
   {
    "duration": 107493,
    "start_time": "2022-12-01T07:36:52.583Z"
   },
   {
    "duration": 1460,
    "start_time": "2022-12-01T08:52:21.931Z"
   },
   {
    "duration": 4,
    "start_time": "2022-12-01T08:52:23.393Z"
   },
   {
    "duration": 0,
    "start_time": "2022-12-01T08:52:23.400Z"
   },
   {
    "duration": 0,
    "start_time": "2022-12-01T08:52:23.402Z"
   },
   {
    "duration": 1,
    "start_time": "2022-12-01T08:52:23.403Z"
   },
   {
    "duration": 0,
    "start_time": "2022-12-01T08:52:23.405Z"
   },
   {
    "duration": 1,
    "start_time": "2022-12-01T08:52:23.406Z"
   },
   {
    "duration": 0,
    "start_time": "2022-12-01T08:52:23.408Z"
   },
   {
    "duration": 0,
    "start_time": "2022-12-01T08:52:23.409Z"
   },
   {
    "duration": 0,
    "start_time": "2022-12-01T08:52:23.411Z"
   },
   {
    "duration": 0,
    "start_time": "2022-12-01T08:52:23.412Z"
   },
   {
    "duration": 0,
    "start_time": "2022-12-01T08:52:23.414Z"
   },
   {
    "duration": 0,
    "start_time": "2022-12-01T08:52:23.415Z"
   },
   {
    "duration": 0,
    "start_time": "2022-12-01T08:52:23.417Z"
   },
   {
    "duration": 0,
    "start_time": "2022-12-01T08:52:23.418Z"
   },
   {
    "duration": 0,
    "start_time": "2022-12-01T08:52:23.419Z"
   },
   {
    "duration": 0,
    "start_time": "2022-12-01T08:52:23.420Z"
   },
   {
    "duration": 0,
    "start_time": "2022-12-01T08:52:23.422Z"
   },
   {
    "duration": 0,
    "start_time": "2022-12-01T08:52:23.423Z"
   },
   {
    "duration": 0,
    "start_time": "2022-12-01T08:52:23.425Z"
   },
   {
    "duration": 0,
    "start_time": "2022-12-01T08:52:23.426Z"
   },
   {
    "duration": 67,
    "start_time": "2022-12-01T08:52:56.127Z"
   },
   {
    "duration": 4,
    "start_time": "2022-12-01T08:53:01.461Z"
   },
   {
    "duration": 5,
    "start_time": "2022-12-01T08:53:02.817Z"
   },
   {
    "duration": 23,
    "start_time": "2022-12-01T08:53:04.116Z"
   },
   {
    "duration": 19,
    "start_time": "2022-12-01T08:53:06.861Z"
   },
   {
    "duration": 10,
    "start_time": "2022-12-01T08:53:10.443Z"
   },
   {
    "duration": 5,
    "start_time": "2022-12-01T08:53:15.068Z"
   },
   {
    "duration": 15,
    "start_time": "2022-12-01T08:53:16.846Z"
   },
   {
    "duration": 24,
    "start_time": "2022-12-01T08:53:28.480Z"
   },
   {
    "duration": 815,
    "start_time": "2022-12-01T08:53:29.887Z"
   },
   {
    "duration": 25335,
    "start_time": "2022-12-01T08:55:10.204Z"
   },
   {
    "duration": 28,
    "start_time": "2022-12-01T08:56:34.290Z"
   },
   {
    "duration": 106,
    "start_time": "2022-12-01T09:07:29.763Z"
   },
   {
    "duration": 795,
    "start_time": "2022-12-01T09:09:42.781Z"
   },
   {
    "duration": 765,
    "start_time": "2022-12-01T09:09:56.276Z"
   },
   {
    "duration": 24959,
    "start_time": "2022-12-01T09:09:59.637Z"
   },
   {
    "duration": 5,
    "start_time": "2022-12-01T09:10:24.598Z"
   },
   {
    "duration": 5,
    "start_time": "2022-12-01T09:23:27.206Z"
   },
   {
    "duration": 11466,
    "start_time": "2022-12-01T09:23:45.362Z"
   },
   {
    "duration": 1275,
    "start_time": "2022-12-01T09:25:08.832Z"
   },
   {
    "duration": 62,
    "start_time": "2022-12-01T09:25:10.109Z"
   },
   {
    "duration": 9,
    "start_time": "2022-12-01T09:25:10.173Z"
   },
   {
    "duration": 8,
    "start_time": "2022-12-01T09:25:10.185Z"
   },
   {
    "duration": 28,
    "start_time": "2022-12-01T09:25:10.195Z"
   },
   {
    "duration": 17,
    "start_time": "2022-12-01T09:25:10.225Z"
   },
   {
    "duration": 9,
    "start_time": "2022-12-01T09:25:10.244Z"
   },
   {
    "duration": 3,
    "start_time": "2022-12-01T09:25:10.254Z"
   },
   {
    "duration": 19,
    "start_time": "2022-12-01T09:25:10.259Z"
   },
   {
    "duration": 24,
    "start_time": "2022-12-01T09:25:10.280Z"
   },
   {
    "duration": 809,
    "start_time": "2022-12-01T09:25:10.306Z"
   },
   {
    "duration": 24792,
    "start_time": "2022-12-01T09:25:11.116Z"
   },
   {
    "duration": 75,
    "start_time": "2022-12-01T09:25:35.909Z"
   },
   {
    "duration": 92,
    "start_time": "2022-12-01T09:25:35.987Z"
   },
   {
    "duration": 0,
    "start_time": "2022-12-01T09:25:36.081Z"
   },
   {
    "duration": 0,
    "start_time": "2022-12-01T09:25:36.082Z"
   },
   {
    "duration": 0,
    "start_time": "2022-12-01T09:25:36.083Z"
   },
   {
    "duration": 0,
    "start_time": "2022-12-01T09:25:36.084Z"
   },
   {
    "duration": 0,
    "start_time": "2022-12-01T09:25:36.085Z"
   },
   {
    "duration": 0,
    "start_time": "2022-12-01T09:25:36.086Z"
   },
   {
    "duration": 0,
    "start_time": "2022-12-01T09:25:36.087Z"
   },
   {
    "duration": 0,
    "start_time": "2022-12-01T09:25:36.089Z"
   },
   {
    "duration": 775,
    "start_time": "2022-12-01T09:28:37.556Z"
   },
   {
    "duration": 25128,
    "start_time": "2022-12-01T09:28:39.649Z"
   },
   {
    "duration": 5,
    "start_time": "2022-12-01T09:29:09.473Z"
   },
   {
    "duration": 11614,
    "start_time": "2022-12-01T09:29:15.460Z"
   },
   {
    "duration": 340909,
    "start_time": "2022-12-01T09:29:43.186Z"
   },
   {
    "duration": 188,
    "start_time": "2022-12-01T09:35:24.097Z"
   },
   {
    "duration": 6,
    "start_time": "2022-12-01T09:35:24.286Z"
   },
   {
    "duration": 256,
    "start_time": "2022-12-01T09:36:05.208Z"
   },
   {
    "duration": 5,
    "start_time": "2022-12-01T09:39:50.857Z"
   },
   {
    "duration": 11507,
    "start_time": "2022-12-01T09:41:01.782Z"
   },
   {
    "duration": 1397,
    "start_time": "2022-12-01T09:49:07.019Z"
   },
   {
    "duration": 65,
    "start_time": "2022-12-01T09:49:08.418Z"
   },
   {
    "duration": 5,
    "start_time": "2022-12-01T09:49:08.484Z"
   },
   {
    "duration": 8,
    "start_time": "2022-12-01T09:49:08.491Z"
   },
   {
    "duration": 21,
    "start_time": "2022-12-01T09:49:08.500Z"
   },
   {
    "duration": 20,
    "start_time": "2022-12-01T09:49:08.522Z"
   },
   {
    "duration": 10,
    "start_time": "2022-12-01T09:49:08.543Z"
   },
   {
    "duration": 9,
    "start_time": "2022-12-01T09:49:08.578Z"
   },
   {
    "duration": 15,
    "start_time": "2022-12-01T09:49:08.588Z"
   },
   {
    "duration": 29,
    "start_time": "2022-12-01T09:49:08.606Z"
   },
   {
    "duration": 803,
    "start_time": "2022-12-01T09:49:08.637Z"
   },
   {
    "duration": 25186,
    "start_time": "2022-12-01T09:49:09.441Z"
   },
   {
    "duration": 54,
    "start_time": "2022-12-01T09:49:34.629Z"
   },
   {
    "duration": 960,
    "start_time": "2022-12-01T09:49:34.685Z"
   },
   {
    "duration": 25499,
    "start_time": "2022-12-01T09:49:35.647Z"
   },
   {
    "duration": 6,
    "start_time": "2022-12-01T09:50:01.147Z"
   },
   {
    "duration": 11754,
    "start_time": "2022-12-01T09:50:01.154Z"
   },
   {
    "duration": 342863,
    "start_time": "2022-12-01T09:50:12.911Z"
   },
   {
    "duration": 5,
    "start_time": "2022-12-01T09:55:55.777Z"
   },
   {
    "duration": 176,
    "start_time": "2022-12-01T09:55:55.783Z"
   },
   {
    "duration": 269,
    "start_time": "2022-12-01T09:55:55.961Z"
   },
   {
    "duration": 57,
    "start_time": "2022-12-02T09:01:19.108Z"
   },
   {
    "duration": 1545,
    "start_time": "2022-12-02T09:03:34.399Z"
   },
   {
    "duration": 125,
    "start_time": "2022-12-02T09:03:35.947Z"
   },
   {
    "duration": 6,
    "start_time": "2022-12-02T09:03:36.073Z"
   },
   {
    "duration": 15,
    "start_time": "2022-12-02T09:03:36.081Z"
   },
   {
    "duration": 27,
    "start_time": "2022-12-02T09:03:36.097Z"
   },
   {
    "duration": 22,
    "start_time": "2022-12-02T09:03:36.125Z"
   },
   {
    "duration": 10,
    "start_time": "2022-12-02T09:03:36.149Z"
   },
   {
    "duration": 4,
    "start_time": "2022-12-02T09:03:36.160Z"
   },
   {
    "duration": 16,
    "start_time": "2022-12-02T09:03:36.166Z"
   },
   {
    "duration": 50,
    "start_time": "2022-12-02T09:03:36.185Z"
   },
   {
    "duration": 1021,
    "start_time": "2022-12-02T09:03:36.237Z"
   },
   {
    "duration": 0,
    "start_time": "2022-12-02T09:03:37.260Z"
   },
   {
    "duration": 0,
    "start_time": "2022-12-02T09:03:37.261Z"
   },
   {
    "duration": 0,
    "start_time": "2022-12-02T09:03:37.262Z"
   },
   {
    "duration": 0,
    "start_time": "2022-12-02T09:03:37.263Z"
   },
   {
    "duration": 0,
    "start_time": "2022-12-02T09:03:37.264Z"
   },
   {
    "duration": 0,
    "start_time": "2022-12-02T09:03:37.265Z"
   },
   {
    "duration": 0,
    "start_time": "2022-12-02T09:03:37.267Z"
   },
   {
    "duration": 0,
    "start_time": "2022-12-02T09:03:37.267Z"
   },
   {
    "duration": 0,
    "start_time": "2022-12-02T09:03:37.269Z"
   },
   {
    "duration": 0,
    "start_time": "2022-12-02T09:03:37.270Z"
   },
   {
    "duration": 0,
    "start_time": "2022-12-02T09:03:37.271Z"
   },
   {
    "duration": 855,
    "start_time": "2022-12-02T09:04:35.466Z"
   },
   {
    "duration": 877,
    "start_time": "2022-12-02T09:09:20.314Z"
   },
   {
    "duration": 10,
    "start_time": "2022-12-02T09:23:20.670Z"
   },
   {
    "duration": 13,
    "start_time": "2022-12-02T09:25:29.490Z"
   },
   {
    "duration": 1532,
    "start_time": "2022-12-02T09:25:37.524Z"
   },
   {
    "duration": 87,
    "start_time": "2022-12-02T09:25:39.059Z"
   },
   {
    "duration": 7,
    "start_time": "2022-12-02T09:25:39.149Z"
   },
   {
    "duration": 10,
    "start_time": "2022-12-02T09:25:39.159Z"
   },
   {
    "duration": 40,
    "start_time": "2022-12-02T09:25:39.171Z"
   },
   {
    "duration": 48,
    "start_time": "2022-12-02T09:25:39.213Z"
   },
   {
    "duration": 17,
    "start_time": "2022-12-02T09:25:39.264Z"
   },
   {
    "duration": 7,
    "start_time": "2022-12-02T09:25:39.283Z"
   },
   {
    "duration": 20,
    "start_time": "2022-12-02T09:25:39.291Z"
   },
   {
    "duration": 38,
    "start_time": "2022-12-02T09:25:39.338Z"
   },
   {
    "duration": 7,
    "start_time": "2022-12-02T09:25:39.379Z"
   },
   {
    "duration": 1205,
    "start_time": "2022-12-02T09:25:39.388Z"
   },
   {
    "duration": 28628,
    "start_time": "2022-12-02T09:25:40.595Z"
   },
   {
    "duration": 41,
    "start_time": "2022-12-02T09:26:09.225Z"
   },
   {
    "duration": 1001,
    "start_time": "2022-12-02T09:26:09.335Z"
   },
   {
    "duration": 28551,
    "start_time": "2022-12-02T09:26:10.338Z"
   },
   {
    "duration": 9,
    "start_time": "2022-12-02T09:26:38.891Z"
   },
   {
    "duration": 13215,
    "start_time": "2022-12-02T09:26:38.902Z"
   },
   {
    "duration": 1939,
    "start_time": "2022-12-02T09:32:01.563Z"
   },
   {
    "duration": 90,
    "start_time": "2022-12-02T09:32:03.506Z"
   },
   {
    "duration": 6,
    "start_time": "2022-12-02T09:32:03.598Z"
   },
   {
    "duration": 17,
    "start_time": "2022-12-02T09:32:03.607Z"
   },
   {
    "duration": 34,
    "start_time": "2022-12-02T09:32:03.634Z"
   },
   {
    "duration": 24,
    "start_time": "2022-12-02T09:32:03.671Z"
   },
   {
    "duration": 12,
    "start_time": "2022-12-02T09:32:03.696Z"
   },
   {
    "duration": 11,
    "start_time": "2022-12-02T09:32:03.735Z"
   },
   {
    "duration": 11,
    "start_time": "2022-12-02T09:32:03.748Z"
   },
   {
    "duration": 56,
    "start_time": "2022-12-02T09:32:03.763Z"
   },
   {
    "duration": 7,
    "start_time": "2022-12-02T09:32:03.822Z"
   },
   {
    "duration": 520,
    "start_time": "2022-12-02T09:32:03.831Z"
   },
   {
    "duration": 0,
    "start_time": "2022-12-02T09:32:04.353Z"
   },
   {
    "duration": 0,
    "start_time": "2022-12-02T09:32:04.355Z"
   },
   {
    "duration": 0,
    "start_time": "2022-12-02T09:32:04.357Z"
   },
   {
    "duration": 0,
    "start_time": "2022-12-02T09:32:04.359Z"
   },
   {
    "duration": 0,
    "start_time": "2022-12-02T09:32:04.366Z"
   },
   {
    "duration": 0,
    "start_time": "2022-12-02T09:32:04.368Z"
   },
   {
    "duration": 0,
    "start_time": "2022-12-02T09:32:04.370Z"
   },
   {
    "duration": 0,
    "start_time": "2022-12-02T09:32:04.371Z"
   },
   {
    "duration": 0,
    "start_time": "2022-12-02T09:32:04.373Z"
   },
   {
    "duration": 0,
    "start_time": "2022-12-02T09:32:04.374Z"
   },
   {
    "duration": 0,
    "start_time": "2022-12-02T09:32:04.376Z"
   },
   {
    "duration": 1499,
    "start_time": "2022-12-02T09:36:17.810Z"
   },
   {
    "duration": 72,
    "start_time": "2022-12-02T09:36:19.311Z"
   },
   {
    "duration": 5,
    "start_time": "2022-12-02T09:36:19.386Z"
   },
   {
    "duration": 15,
    "start_time": "2022-12-02T09:36:19.394Z"
   },
   {
    "duration": 34,
    "start_time": "2022-12-02T09:36:19.411Z"
   },
   {
    "duration": 26,
    "start_time": "2022-12-02T09:36:19.447Z"
   },
   {
    "duration": 13,
    "start_time": "2022-12-02T09:36:19.475Z"
   },
   {
    "duration": 5,
    "start_time": "2022-12-02T09:36:19.490Z"
   },
   {
    "duration": 43,
    "start_time": "2022-12-02T09:36:19.497Z"
   },
   {
    "duration": 29,
    "start_time": "2022-12-02T09:36:19.543Z"
   },
   {
    "duration": 4,
    "start_time": "2022-12-02T09:36:19.574Z"
   },
   {
    "duration": 383,
    "start_time": "2022-12-02T09:36:19.580Z"
   },
   {
    "duration": 27761,
    "start_time": "2022-12-02T09:36:19.965Z"
   },
   {
    "duration": 36,
    "start_time": "2022-12-02T09:36:47.728Z"
   },
   {
    "duration": 223,
    "start_time": "2022-12-02T09:36:47.843Z"
   },
   {
    "duration": 0,
    "start_time": "2022-12-02T09:36:48.068Z"
   },
   {
    "duration": 0,
    "start_time": "2022-12-02T09:36:48.069Z"
   },
   {
    "duration": 0,
    "start_time": "2022-12-02T09:36:48.070Z"
   },
   {
    "duration": 0,
    "start_time": "2022-12-02T09:36:48.072Z"
   },
   {
    "duration": 0,
    "start_time": "2022-12-02T09:36:48.072Z"
   },
   {
    "duration": 0,
    "start_time": "2022-12-02T09:36:48.074Z"
   },
   {
    "duration": 0,
    "start_time": "2022-12-02T09:36:48.075Z"
   },
   {
    "duration": 0,
    "start_time": "2022-12-02T09:36:48.077Z"
   },
   {
    "duration": 34,
    "start_time": "2022-12-02T10:11:27.821Z"
   },
   {
    "duration": 33,
    "start_time": "2022-12-02T10:14:41.715Z"
   },
   {
    "duration": 958,
    "start_time": "2022-12-02T10:29:21.856Z"
   },
   {
    "duration": 876,
    "start_time": "2022-12-02T10:30:52.715Z"
   },
   {
    "duration": 860,
    "start_time": "2022-12-02T10:31:00.861Z"
   },
   {
    "duration": 27639,
    "start_time": "2022-12-02T10:32:20.081Z"
   },
   {
    "duration": 27413,
    "start_time": "2022-12-02T10:47:47.103Z"
   },
   {
    "duration": 834,
    "start_time": "2022-12-02T10:49:00.091Z"
   },
   {
    "duration": 903,
    "start_time": "2022-12-02T10:49:28.135Z"
   },
   {
    "duration": 27544,
    "start_time": "2022-12-02T10:54:24.847Z"
   },
   {
    "duration": 863,
    "start_time": "2022-12-02T10:57:46.832Z"
   },
   {
    "duration": 112,
    "start_time": "2022-12-02T11:00:45.932Z"
   },
   {
    "duration": 869,
    "start_time": "2022-12-02T11:08:32.889Z"
   },
   {
    "duration": 28361,
    "start_time": "2022-12-02T11:08:38.982Z"
   },
   {
    "duration": 312,
    "start_time": "2022-12-02T11:18:28.463Z"
   },
   {
    "duration": 117,
    "start_time": "2022-12-02T11:55:57.845Z"
   },
   {
    "duration": 22,
    "start_time": "2022-12-02T11:56:09.133Z"
   },
   {
    "duration": 239,
    "start_time": "2022-12-02T12:05:25.109Z"
   },
   {
    "duration": 28789,
    "start_time": "2022-12-02T12:06:21.794Z"
   },
   {
    "duration": 917,
    "start_time": "2022-12-02T12:13:57.252Z"
   },
   {
    "duration": 28958,
    "start_time": "2022-12-02T12:14:08.114Z"
   },
   {
    "duration": 174,
    "start_time": "2022-12-02T12:14:37.074Z"
   },
   {
    "duration": 163,
    "start_time": "2022-12-02T12:14:51.278Z"
   },
   {
    "duration": 74,
    "start_time": "2022-12-02T12:15:04.682Z"
   },
   {
    "duration": 306,
    "start_time": "2022-12-02T12:21:51.851Z"
   },
   {
    "duration": 148,
    "start_time": "2022-12-02T12:22:14.091Z"
   },
   {
    "duration": 47,
    "start_time": "2022-12-02T12:23:09.838Z"
   },
   {
    "duration": 71,
    "start_time": "2022-12-02T12:23:16.576Z"
   },
   {
    "duration": 82,
    "start_time": "2022-12-02T12:23:32.853Z"
   },
   {
    "duration": 67,
    "start_time": "2022-12-02T12:23:45.980Z"
   },
   {
    "duration": 30183,
    "start_time": "2022-12-02T12:24:28.254Z"
   },
   {
    "duration": 29604,
    "start_time": "2022-12-02T12:25:29.748Z"
   },
   {
    "duration": 264,
    "start_time": "2022-12-02T12:26:51.574Z"
   },
   {
    "duration": 1191,
    "start_time": "2022-12-02T12:27:11.447Z"
   },
   {
    "duration": 329,
    "start_time": "2022-12-02T12:31:00.295Z"
   },
   {
    "duration": 5,
    "start_time": "2022-12-02T12:31:16.257Z"
   },
   {
    "duration": 12,
    "start_time": "2022-12-02T12:31:39.950Z"
   },
   {
    "duration": 1869,
    "start_time": "2022-12-02T12:35:22.644Z"
   },
   {
    "duration": 31218,
    "start_time": "2022-12-02T12:37:13.586Z"
   },
   {
    "duration": 10,
    "start_time": "2022-12-02T12:44:31.167Z"
   },
   {
    "duration": 4,
    "start_time": "2022-12-02T12:44:35.790Z"
   },
   {
    "duration": 11,
    "start_time": "2022-12-02T12:44:37.650Z"
   },
   {
    "duration": 11,
    "start_time": "2022-12-02T12:45:25.176Z"
   },
   {
    "duration": 9,
    "start_time": "2022-12-02T12:46:15.099Z"
   },
   {
    "duration": 4,
    "start_time": "2022-12-02T12:46:15.672Z"
   },
   {
    "duration": 1645,
    "start_time": "2022-12-02T12:46:16.611Z"
   },
   {
    "duration": 28526,
    "start_time": "2022-12-02T12:47:52.144Z"
   },
   {
    "duration": 28757,
    "start_time": "2022-12-02T12:51:37.033Z"
   },
   {
    "duration": 1657,
    "start_time": "2022-12-02T12:54:44.553Z"
   },
   {
    "duration": 1713,
    "start_time": "2022-12-02T13:01:32.484Z"
   },
   {
    "duration": 1614,
    "start_time": "2022-12-02T13:04:07.451Z"
   },
   {
    "duration": 9,
    "start_time": "2022-12-02T13:06:48.146Z"
   },
   {
    "duration": 1842,
    "start_time": "2022-12-02T13:06:51.980Z"
   },
   {
    "duration": 28832,
    "start_time": "2022-12-02T13:07:29.224Z"
   },
   {
    "duration": 28503,
    "start_time": "2022-12-02T13:09:56.410Z"
   },
   {
    "duration": 1688,
    "start_time": "2022-12-02T13:10:55.293Z"
   },
   {
    "duration": 1351,
    "start_time": "2022-12-02T13:12:08.612Z"
   },
   {
    "duration": 73,
    "start_time": "2022-12-02T13:12:09.965Z"
   },
   {
    "duration": 5,
    "start_time": "2022-12-02T13:12:10.040Z"
   },
   {
    "duration": 10,
    "start_time": "2022-12-02T13:12:10.047Z"
   },
   {
    "duration": 41,
    "start_time": "2022-12-02T13:12:10.058Z"
   },
   {
    "duration": 19,
    "start_time": "2022-12-02T13:12:10.101Z"
   },
   {
    "duration": 9,
    "start_time": "2022-12-02T13:12:10.122Z"
   },
   {
    "duration": 4,
    "start_time": "2022-12-02T13:12:10.132Z"
   },
   {
    "duration": 15,
    "start_time": "2022-12-02T13:12:10.137Z"
   },
   {
    "duration": 23,
    "start_time": "2022-12-02T13:12:10.155Z"
   },
   {
    "duration": 810,
    "start_time": "2022-12-02T13:12:10.180Z"
   },
   {
    "duration": 26457,
    "start_time": "2022-12-02T13:12:10.991Z"
   },
   {
    "duration": 91,
    "start_time": "2022-12-02T13:12:37.450Z"
   },
   {
    "duration": 287,
    "start_time": "2022-12-02T13:12:37.543Z"
   },
   {
    "duration": 816,
    "start_time": "2022-12-02T13:12:37.834Z"
   },
   {
    "duration": 26979,
    "start_time": "2022-12-02T13:12:38.652Z"
   },
   {
    "duration": 4,
    "start_time": "2022-12-02T13:13:05.635Z"
   },
   {
    "duration": 19,
    "start_time": "2022-12-02T13:13:05.641Z"
   },
   {
    "duration": 1740,
    "start_time": "2022-12-02T13:13:05.662Z"
   },
   {
    "duration": 28476,
    "start_time": "2022-12-02T13:13:07.404Z"
   },
   {
    "duration": 11,
    "start_time": "2022-12-02T13:13:35.882Z"
   },
   {
    "duration": 10,
    "start_time": "2022-12-02T13:13:35.894Z"
   },
   {
    "duration": 1734,
    "start_time": "2022-12-02T13:13:35.905Z"
   },
   {
    "duration": 28925,
    "start_time": "2022-12-02T13:13:37.640Z"
   },
   {
    "duration": 51,
    "start_time": "2022-12-02T13:14:06.567Z"
   },
   {
    "duration": 0,
    "start_time": "2022-12-02T13:14:06.620Z"
   },
   {
    "duration": 233,
    "start_time": "2022-12-02T13:24:00.344Z"
   },
   {
    "duration": 49,
    "start_time": "2022-12-02T13:25:35.405Z"
   },
   {
    "duration": 1594,
    "start_time": "2022-12-02T19:34:15.476Z"
   },
   {
    "duration": 128,
    "start_time": "2022-12-02T19:34:17.072Z"
   },
   {
    "duration": 5,
    "start_time": "2022-12-02T19:34:17.201Z"
   },
   {
    "duration": 7,
    "start_time": "2022-12-02T19:34:17.208Z"
   },
   {
    "duration": 21,
    "start_time": "2022-12-02T19:34:17.217Z"
   },
   {
    "duration": 22,
    "start_time": "2022-12-02T19:34:17.239Z"
   },
   {
    "duration": 33,
    "start_time": "2022-12-02T19:34:17.263Z"
   },
   {
    "duration": 4,
    "start_time": "2022-12-02T19:34:17.298Z"
   },
   {
    "duration": 12,
    "start_time": "2022-12-02T19:34:17.304Z"
   },
   {
    "duration": 38,
    "start_time": "2022-12-02T19:34:17.320Z"
   },
   {
    "duration": 825,
    "start_time": "2022-12-02T19:34:17.360Z"
   },
   {
    "duration": 25551,
    "start_time": "2022-12-02T19:34:18.186Z"
   },
   {
    "duration": 66,
    "start_time": "2022-12-02T19:34:43.738Z"
   },
   {
    "duration": 369,
    "start_time": "2022-12-02T19:34:43.806Z"
   },
   {
    "duration": 790,
    "start_time": "2022-12-02T19:34:44.177Z"
   },
   {
    "duration": 25744,
    "start_time": "2022-12-02T19:34:44.969Z"
   },
   {
    "duration": 4,
    "start_time": "2022-12-02T19:35:10.715Z"
   },
   {
    "duration": 19,
    "start_time": "2022-12-02T19:35:10.722Z"
   },
   {
    "duration": 1615,
    "start_time": "2022-12-02T19:35:10.743Z"
   },
   {
    "duration": 27992,
    "start_time": "2022-12-02T19:35:12.359Z"
   },
   {
    "duration": 10,
    "start_time": "2022-12-02T19:35:40.353Z"
   },
   {
    "duration": 4,
    "start_time": "2022-12-02T19:35:40.364Z"
   },
   {
    "duration": 1594,
    "start_time": "2022-12-02T19:35:40.370Z"
   },
   {
    "duration": 29026,
    "start_time": "2022-12-02T19:35:41.965Z"
   },
   {
    "duration": 239,
    "start_time": "2022-12-02T19:36:10.996Z"
   },
   {
    "duration": 133,
    "start_time": "2022-12-02T19:39:02.814Z"
   },
   {
    "duration": 1749,
    "start_time": "2022-12-02T19:40:12.481Z"
   },
   {
    "duration": 31770,
    "start_time": "2022-12-02T19:41:56.673Z"
   },
   {
    "duration": 5,
    "start_time": "2022-12-02T19:45:07.490Z"
   },
   {
    "duration": 67,
    "start_time": "2022-12-02T19:45:07.519Z"
   },
   {
    "duration": 4,
    "start_time": "2022-12-02T19:45:07.588Z"
   },
   {
    "duration": 8,
    "start_time": "2022-12-02T19:45:07.594Z"
   },
   {
    "duration": 36,
    "start_time": "2022-12-02T19:45:07.603Z"
   },
   {
    "duration": 29,
    "start_time": "2022-12-02T19:45:07.643Z"
   },
   {
    "duration": 29,
    "start_time": "2022-12-02T19:45:07.674Z"
   },
   {
    "duration": 4,
    "start_time": "2022-12-02T19:45:07.705Z"
   },
   {
    "duration": 14,
    "start_time": "2022-12-02T19:45:07.711Z"
   },
   {
    "duration": 27,
    "start_time": "2022-12-02T19:45:07.726Z"
   },
   {
    "duration": 878,
    "start_time": "2022-12-02T19:45:07.755Z"
   },
   {
    "duration": 27149,
    "start_time": "2022-12-02T19:45:08.635Z"
   },
   {
    "duration": 309,
    "start_time": "2022-12-02T19:45:35.786Z"
   },
   {
    "duration": 168,
    "start_time": "2022-12-02T19:45:36.098Z"
   },
   {
    "duration": 842,
    "start_time": "2022-12-02T19:45:36.270Z"
   },
   {
    "duration": 26405,
    "start_time": "2022-12-02T19:45:37.114Z"
   },
   {
    "duration": 6,
    "start_time": "2022-12-02T19:46:03.521Z"
   },
   {
    "duration": 14,
    "start_time": "2022-12-02T19:46:03.529Z"
   },
   {
    "duration": 1764,
    "start_time": "2022-12-02T19:46:03.546Z"
   },
   {
    "duration": 30089,
    "start_time": "2022-12-02T19:46:05.311Z"
   },
   {
    "duration": 10,
    "start_time": "2022-12-02T19:46:35.401Z"
   },
   {
    "duration": 4,
    "start_time": "2022-12-02T19:46:35.414Z"
   },
   {
    "duration": 1792,
    "start_time": "2022-12-02T19:46:35.419Z"
   },
   {
    "duration": 30297,
    "start_time": "2022-12-02T19:46:37.213Z"
   },
   {
    "duration": 260,
    "start_time": "2022-12-02T19:47:07.512Z"
   },
   {
    "duration": 480,
    "start_time": "2022-12-02T20:54:18.592Z"
   },
   {
    "duration": 448,
    "start_time": "2022-12-02T20:54:39.066Z"
   },
   {
    "duration": 436,
    "start_time": "2022-12-02T20:55:17.790Z"
   },
   {
    "duration": 12,
    "start_time": "2022-12-02T20:55:51.925Z"
   },
   {
    "duration": 11,
    "start_time": "2022-12-02T20:56:30.840Z"
   },
   {
    "duration": 14,
    "start_time": "2022-12-02T20:56:46.025Z"
   },
   {
    "duration": 11,
    "start_time": "2022-12-02T20:56:53.294Z"
   },
   {
    "duration": 402,
    "start_time": "2022-12-02T20:57:04.358Z"
   },
   {
    "duration": 517,
    "start_time": "2022-12-02T20:57:12.659Z"
   },
   {
    "duration": 355,
    "start_time": "2022-12-02T20:58:34.806Z"
   },
   {
    "duration": 336,
    "start_time": "2022-12-02T21:00:23.281Z"
   },
   {
    "duration": 410,
    "start_time": "2022-12-02T21:00:34.717Z"
   },
   {
    "duration": 262,
    "start_time": "2022-12-02T21:00:42.776Z"
   },
   {
    "duration": 283,
    "start_time": "2022-12-02T21:01:06.507Z"
   },
   {
    "duration": 243,
    "start_time": "2022-12-02T21:01:14.626Z"
   },
   {
    "duration": 292,
    "start_time": "2022-12-02T21:01:23.009Z"
   },
   {
    "duration": 266,
    "start_time": "2022-12-02T21:01:28.494Z"
   },
   {
    "duration": 308,
    "start_time": "2022-12-02T21:01:53.301Z"
   },
   {
    "duration": 309,
    "start_time": "2022-12-02T21:02:01.092Z"
   },
   {
    "duration": 50,
    "start_time": "2022-12-02T21:03:28.183Z"
   }
  ],
  "kernelspec": {
   "display_name": "Python 3 (ipykernel)",
   "language": "python",
   "name": "python3"
  },
  "language_info": {
   "codemirror_mode": {
    "name": "ipython",
    "version": 3
   },
   "file_extension": ".py",
   "mimetype": "text/x-python",
   "name": "python",
   "nbconvert_exporter": "python",
   "pygments_lexer": "ipython3",
   "version": "3.9.12"
  },
  "toc": {
   "base_numbering": 1,
   "nav_menu": {},
   "number_sections": true,
   "sideBar": true,
   "skip_h1_title": true,
   "title_cell": "Содержание",
   "title_sidebar": "Contents",
   "toc_cell": true,
   "toc_position": {
    "height": "calc(100% - 180px)",
    "left": "10px",
    "top": "150px",
    "width": "165px"
   },
   "toc_section_display": true,
   "toc_window_display": true
  }
 },
 "nbformat": 4,
 "nbformat_minor": 2
}
